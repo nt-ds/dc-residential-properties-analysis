{
 "cells": [
  {
   "cell_type": "code",
   "execution_count": 2,
   "metadata": {},
   "outputs": [],
   "source": [
    "import numpy as np\n",
    "import matplotlib.pyplot as plt\n",
    "import pandas as pd\n",
    "import pickle\n",
    "from sklearn.model_selection import train_test_split\n",
    "from sklearn.linear_model import LogisticRegression\n",
    "from statsmodels.tsa.seasonal import seasonal_decompose"
   ]
  },
  {
   "cell_type": "code",
   "execution_count": 3,
   "metadata": {},
   "outputs": [],
   "source": [
    "filename = \"../data/processed/NoSaleDateHouses.pickle\"\n",
    "seed = 0"
   ]
  },
  {
   "cell_type": "code",
   "execution_count": 4,
   "metadata": {},
   "outputs": [],
   "source": [
    "f = open(filename,\"rb\")\n",
    "df = pickle.load(f)\n",
    "X_feats = pickle.load(f)\n",
    "Y_col = pickle.load(f)\n",
    "f.close()"
   ]
  },
  {
   "cell_type": "code",
   "execution_count": 5,
   "metadata": {},
   "outputs": [
    {
     "data": {
      "text/html": [
       "<div>\n",
       "<style scoped>\n",
       "    .dataframe tbody tr th:only-of-type {\n",
       "        vertical-align: middle;\n",
       "    }\n",
       "\n",
       "    .dataframe tbody tr th {\n",
       "        vertical-align: top;\n",
       "    }\n",
       "\n",
       "    .dataframe thead th {\n",
       "        text-align: right;\n",
       "    }\n",
       "</style>\n",
       "<table border=\"1\" class=\"dataframe\">\n",
       "  <thead>\n",
       "    <tr style=\"text-align: right;\">\n",
       "      <th></th>\n",
       "      <th>AYB</th>\n",
       "      <th>EYB</th>\n",
       "      <th>SALEDATE</th>\n",
       "      <th>PRICE</th>\n",
       "      <th>LATITUDE</th>\n",
       "      <th>LONGITUDE</th>\n",
       "      <th>log(PRICE)</th>\n",
       "      <th>SOLD_1_MIL_OR_MORE</th>\n",
       "      <th>log(GBA)</th>\n",
       "      <th>STYLE_1.5 Story Fin</th>\n",
       "      <th>...</th>\n",
       "      <th>WARD_Ward 2</th>\n",
       "      <th>WARD_Ward 3</th>\n",
       "      <th>WARD_Ward 4</th>\n",
       "      <th>WARD_Ward 5</th>\n",
       "      <th>WARD_Ward 6</th>\n",
       "      <th>WARD_Ward 7</th>\n",
       "      <th>WARD_Ward 8</th>\n",
       "      <th>QUADRANT_NW</th>\n",
       "      <th>QUADRANT_SE</th>\n",
       "      <th>QUADRANT_SW</th>\n",
       "    </tr>\n",
       "  </thead>\n",
       "  <tbody>\n",
       "    <tr>\n",
       "      <th>0</th>\n",
       "      <td>1910.0</td>\n",
       "      <td>1972</td>\n",
       "      <td>2003-11-25</td>\n",
       "      <td>1095000.0</td>\n",
       "      <td>38.914680</td>\n",
       "      <td>-77.040832</td>\n",
       "      <td>13.906265</td>\n",
       "      <td>1</td>\n",
       "      <td>7.832808</td>\n",
       "      <td>0</td>\n",
       "      <td>...</td>\n",
       "      <td>1</td>\n",
       "      <td>0</td>\n",
       "      <td>0</td>\n",
       "      <td>0</td>\n",
       "      <td>0</td>\n",
       "      <td>0</td>\n",
       "      <td>0</td>\n",
       "      <td>1</td>\n",
       "      <td>0</td>\n",
       "      <td>0</td>\n",
       "    </tr>\n",
       "    <tr>\n",
       "      <th>1</th>\n",
       "      <td>1910.0</td>\n",
       "      <td>1984</td>\n",
       "      <td>2016-06-21</td>\n",
       "      <td>2100000.0</td>\n",
       "      <td>38.914684</td>\n",
       "      <td>-77.040678</td>\n",
       "      <td>14.557448</td>\n",
       "      <td>1</td>\n",
       "      <td>7.832808</td>\n",
       "      <td>0</td>\n",
       "      <td>...</td>\n",
       "      <td>1</td>\n",
       "      <td>0</td>\n",
       "      <td>0</td>\n",
       "      <td>0</td>\n",
       "      <td>0</td>\n",
       "      <td>0</td>\n",
       "      <td>0</td>\n",
       "      <td>1</td>\n",
       "      <td>0</td>\n",
       "      <td>0</td>\n",
       "    </tr>\n",
       "    <tr>\n",
       "      <th>2</th>\n",
       "      <td>1900.0</td>\n",
       "      <td>1984</td>\n",
       "      <td>2006-07-12</td>\n",
       "      <td>1602000.0</td>\n",
       "      <td>38.914683</td>\n",
       "      <td>-77.040629</td>\n",
       "      <td>14.286763</td>\n",
       "      <td>1</td>\n",
       "      <td>7.817625</td>\n",
       "      <td>0</td>\n",
       "      <td>...</td>\n",
       "      <td>1</td>\n",
       "      <td>0</td>\n",
       "      <td>0</td>\n",
       "      <td>0</td>\n",
       "      <td>0</td>\n",
       "      <td>0</td>\n",
       "      <td>0</td>\n",
       "      <td>1</td>\n",
       "      <td>0</td>\n",
       "      <td>0</td>\n",
       "    </tr>\n",
       "    <tr>\n",
       "      <th>3</th>\n",
       "      <td>1913.0</td>\n",
       "      <td>1972</td>\n",
       "      <td>2010-02-26</td>\n",
       "      <td>1950000.0</td>\n",
       "      <td>38.914331</td>\n",
       "      <td>-77.039715</td>\n",
       "      <td>14.483340</td>\n",
       "      <td>1</td>\n",
       "      <td>8.583730</td>\n",
       "      <td>0</td>\n",
       "      <td>...</td>\n",
       "      <td>1</td>\n",
       "      <td>0</td>\n",
       "      <td>0</td>\n",
       "      <td>0</td>\n",
       "      <td>0</td>\n",
       "      <td>0</td>\n",
       "      <td>0</td>\n",
       "      <td>1</td>\n",
       "      <td>0</td>\n",
       "      <td>0</td>\n",
       "    </tr>\n",
       "    <tr>\n",
       "      <th>4</th>\n",
       "      <td>1906.0</td>\n",
       "      <td>1972</td>\n",
       "      <td>2011-09-29</td>\n",
       "      <td>1050000.0</td>\n",
       "      <td>38.915408</td>\n",
       "      <td>-77.040129</td>\n",
       "      <td>13.864301</td>\n",
       "      <td>1</td>\n",
       "      <td>7.783641</td>\n",
       "      <td>0</td>\n",
       "      <td>...</td>\n",
       "      <td>1</td>\n",
       "      <td>0</td>\n",
       "      <td>0</td>\n",
       "      <td>0</td>\n",
       "      <td>0</td>\n",
       "      <td>0</td>\n",
       "      <td>0</td>\n",
       "      <td>1</td>\n",
       "      <td>0</td>\n",
       "      <td>0</td>\n",
       "    </tr>\n",
       "  </tbody>\n",
       "</table>\n",
       "<p>5 rows × 329 columns</p>\n",
       "</div>"
      ],
      "text/plain": [
       "      AYB   EYB    SALEDATE      PRICE   LATITUDE  LONGITUDE  log(PRICE)  \\\n",
       "0  1910.0  1972  2003-11-25  1095000.0  38.914680 -77.040832   13.906265   \n",
       "1  1910.0  1984  2016-06-21  2100000.0  38.914684 -77.040678   14.557448   \n",
       "2  1900.0  1984  2006-07-12  1602000.0  38.914683 -77.040629   14.286763   \n",
       "3  1913.0  1972  2010-02-26  1950000.0  38.914331 -77.039715   14.483340   \n",
       "4  1906.0  1972  2011-09-29  1050000.0  38.915408 -77.040129   13.864301   \n",
       "\n",
       "   SOLD_1_MIL_OR_MORE  log(GBA)  STYLE_1.5 Story Fin  ...  WARD_Ward 2  \\\n",
       "0                   1  7.832808                    0  ...            1   \n",
       "1                   1  7.832808                    0  ...            1   \n",
       "2                   1  7.817625                    0  ...            1   \n",
       "3                   1  8.583730                    0  ...            1   \n",
       "4                   1  7.783641                    0  ...            1   \n",
       "\n",
       "   WARD_Ward 3  WARD_Ward 4  WARD_Ward 5  WARD_Ward 6  WARD_Ward 7  \\\n",
       "0            0            0            0            0            0   \n",
       "1            0            0            0            0            0   \n",
       "2            0            0            0            0            0   \n",
       "3            0            0            0            0            0   \n",
       "4            0            0            0            0            0   \n",
       "\n",
       "   WARD_Ward 8  QUADRANT_NW  QUADRANT_SE  QUADRANT_SW  \n",
       "0            0            1            0            0  \n",
       "1            0            1            0            0  \n",
       "2            0            1            0            0  \n",
       "3            0            1            0            0  \n",
       "4            0            1            0            0  \n",
       "\n",
       "[5 rows x 329 columns]"
      ]
     },
     "execution_count": 5,
     "metadata": {},
     "output_type": "execute_result"
    }
   ],
   "source": [
    "df.head()"
   ]
  },
  {
   "cell_type": "code",
   "execution_count": 6,
   "metadata": {},
   "outputs": [
    {
     "data": {
      "text/html": [
       "<div>\n",
       "<style scoped>\n",
       "    .dataframe tbody tr th:only-of-type {\n",
       "        vertical-align: middle;\n",
       "    }\n",
       "\n",
       "    .dataframe tbody tr th {\n",
       "        vertical-align: top;\n",
       "    }\n",
       "\n",
       "    .dataframe thead th {\n",
       "        text-align: right;\n",
       "    }\n",
       "</style>\n",
       "<table border=\"1\" class=\"dataframe\">\n",
       "  <thead>\n",
       "    <tr style=\"text-align: right;\">\n",
       "      <th></th>\n",
       "      <th>AYB</th>\n",
       "      <th>EYB</th>\n",
       "      <th>LATITUDE</th>\n",
       "      <th>LONGITUDE</th>\n",
       "      <th>log(GBA)</th>\n",
       "      <th>STYLE_1.5 Story Fin</th>\n",
       "      <th>STYLE_1.5 Story Unfin</th>\n",
       "      <th>STYLE_2 Story</th>\n",
       "      <th>STYLE_2.5 Story Fin</th>\n",
       "      <th>STYLE_2.5 Story Unfin</th>\n",
       "      <th>...</th>\n",
       "      <th>WARD_Ward 2</th>\n",
       "      <th>WARD_Ward 3</th>\n",
       "      <th>WARD_Ward 4</th>\n",
       "      <th>WARD_Ward 5</th>\n",
       "      <th>WARD_Ward 6</th>\n",
       "      <th>WARD_Ward 7</th>\n",
       "      <th>WARD_Ward 8</th>\n",
       "      <th>QUADRANT_NW</th>\n",
       "      <th>QUADRANT_SE</th>\n",
       "      <th>QUADRANT_SW</th>\n",
       "    </tr>\n",
       "  </thead>\n",
       "  <tbody>\n",
       "    <tr>\n",
       "      <th>0</th>\n",
       "      <td>1910.0</td>\n",
       "      <td>1972</td>\n",
       "      <td>38.914680</td>\n",
       "      <td>-77.040832</td>\n",
       "      <td>7.832808</td>\n",
       "      <td>0</td>\n",
       "      <td>0</td>\n",
       "      <td>0</td>\n",
       "      <td>0</td>\n",
       "      <td>0</td>\n",
       "      <td>...</td>\n",
       "      <td>1</td>\n",
       "      <td>0</td>\n",
       "      <td>0</td>\n",
       "      <td>0</td>\n",
       "      <td>0</td>\n",
       "      <td>0</td>\n",
       "      <td>0</td>\n",
       "      <td>1</td>\n",
       "      <td>0</td>\n",
       "      <td>0</td>\n",
       "    </tr>\n",
       "    <tr>\n",
       "      <th>1</th>\n",
       "      <td>1910.0</td>\n",
       "      <td>1984</td>\n",
       "      <td>38.914684</td>\n",
       "      <td>-77.040678</td>\n",
       "      <td>7.832808</td>\n",
       "      <td>0</td>\n",
       "      <td>0</td>\n",
       "      <td>0</td>\n",
       "      <td>0</td>\n",
       "      <td>0</td>\n",
       "      <td>...</td>\n",
       "      <td>1</td>\n",
       "      <td>0</td>\n",
       "      <td>0</td>\n",
       "      <td>0</td>\n",
       "      <td>0</td>\n",
       "      <td>0</td>\n",
       "      <td>0</td>\n",
       "      <td>1</td>\n",
       "      <td>0</td>\n",
       "      <td>0</td>\n",
       "    </tr>\n",
       "    <tr>\n",
       "      <th>2</th>\n",
       "      <td>1900.0</td>\n",
       "      <td>1984</td>\n",
       "      <td>38.914683</td>\n",
       "      <td>-77.040629</td>\n",
       "      <td>7.817625</td>\n",
       "      <td>0</td>\n",
       "      <td>0</td>\n",
       "      <td>0</td>\n",
       "      <td>0</td>\n",
       "      <td>0</td>\n",
       "      <td>...</td>\n",
       "      <td>1</td>\n",
       "      <td>0</td>\n",
       "      <td>0</td>\n",
       "      <td>0</td>\n",
       "      <td>0</td>\n",
       "      <td>0</td>\n",
       "      <td>0</td>\n",
       "      <td>1</td>\n",
       "      <td>0</td>\n",
       "      <td>0</td>\n",
       "    </tr>\n",
       "    <tr>\n",
       "      <th>3</th>\n",
       "      <td>1913.0</td>\n",
       "      <td>1972</td>\n",
       "      <td>38.914331</td>\n",
       "      <td>-77.039715</td>\n",
       "      <td>8.583730</td>\n",
       "      <td>0</td>\n",
       "      <td>0</td>\n",
       "      <td>0</td>\n",
       "      <td>0</td>\n",
       "      <td>0</td>\n",
       "      <td>...</td>\n",
       "      <td>1</td>\n",
       "      <td>0</td>\n",
       "      <td>0</td>\n",
       "      <td>0</td>\n",
       "      <td>0</td>\n",
       "      <td>0</td>\n",
       "      <td>0</td>\n",
       "      <td>1</td>\n",
       "      <td>0</td>\n",
       "      <td>0</td>\n",
       "    </tr>\n",
       "    <tr>\n",
       "      <th>4</th>\n",
       "      <td>1906.0</td>\n",
       "      <td>1972</td>\n",
       "      <td>38.915408</td>\n",
       "      <td>-77.040129</td>\n",
       "      <td>7.783641</td>\n",
       "      <td>0</td>\n",
       "      <td>0</td>\n",
       "      <td>0</td>\n",
       "      <td>0</td>\n",
       "      <td>0</td>\n",
       "      <td>...</td>\n",
       "      <td>1</td>\n",
       "      <td>0</td>\n",
       "      <td>0</td>\n",
       "      <td>0</td>\n",
       "      <td>0</td>\n",
       "      <td>0</td>\n",
       "      <td>0</td>\n",
       "      <td>1</td>\n",
       "      <td>0</td>\n",
       "      <td>0</td>\n",
       "    </tr>\n",
       "  </tbody>\n",
       "</table>\n",
       "<p>5 rows × 324 columns</p>\n",
       "</div>"
      ],
      "text/plain": [
       "      AYB   EYB   LATITUDE  LONGITUDE  log(GBA)  STYLE_1.5 Story Fin  \\\n",
       "0  1910.0  1972  38.914680 -77.040832  7.832808                    0   \n",
       "1  1910.0  1984  38.914684 -77.040678  7.832808                    0   \n",
       "2  1900.0  1984  38.914683 -77.040629  7.817625                    0   \n",
       "3  1913.0  1972  38.914331 -77.039715  8.583730                    0   \n",
       "4  1906.0  1972  38.915408 -77.040129  7.783641                    0   \n",
       "\n",
       "   STYLE_1.5 Story Unfin  STYLE_2 Story  STYLE_2.5 Story Fin  \\\n",
       "0                      0              0                    0   \n",
       "1                      0              0                    0   \n",
       "2                      0              0                    0   \n",
       "3                      0              0                    0   \n",
       "4                      0              0                    0   \n",
       "\n",
       "   STYLE_2.5 Story Unfin  ...  WARD_Ward 2  WARD_Ward 3  WARD_Ward 4  \\\n",
       "0                      0  ...            1            0            0   \n",
       "1                      0  ...            1            0            0   \n",
       "2                      0  ...            1            0            0   \n",
       "3                      0  ...            1            0            0   \n",
       "4                      0  ...            1            0            0   \n",
       "\n",
       "   WARD_Ward 5  WARD_Ward 6  WARD_Ward 7  WARD_Ward 8  QUADRANT_NW  \\\n",
       "0            0            0            0            0            1   \n",
       "1            0            0            0            0            1   \n",
       "2            0            0            0            0            1   \n",
       "3            0            0            0            0            1   \n",
       "4            0            0            0            0            1   \n",
       "\n",
       "   QUADRANT_SE  QUADRANT_SW  \n",
       "0            0            0  \n",
       "1            0            0  \n",
       "2            0            0  \n",
       "3            0            0  \n",
       "4            0            0  \n",
       "\n",
       "[5 rows x 324 columns]"
      ]
     },
     "execution_count": 6,
     "metadata": {},
     "output_type": "execute_result"
    }
   ],
   "source": [
    "df[X_feats].head()"
   ]
  },
  {
   "cell_type": "code",
   "execution_count": 7,
   "metadata": {},
   "outputs": [],
   "source": [
    "y = df[Y_col]"
   ]
  },
  {
   "cell_type": "code",
   "execution_count": 8,
   "metadata": {},
   "outputs": [
    {
     "name": "stderr",
     "output_type": "stream",
     "text": [
      "/home/sean/Code/incoming/anaconda3/lib/python3.7/site-packages/ipykernel_launcher.py:3: SettingWithCopyWarning: \n",
      "A value is trying to be set on a copy of a slice from a DataFrame.\n",
      "Try using .loc[row_indexer,col_indexer] = value instead\n",
      "\n",
      "See the caveats in the documentation: http://pandas.pydata.org/pandas-docs/stable/indexing.html#indexing-view-versus-copy\n",
      "  This is separate from the ipykernel package so we can avoid doing imports until\n"
     ]
    }
   ],
   "source": [
    "X = df[X_feats]\n",
    "for col in X.columns:\n",
    "    X[col] = (X[col] - min(X[col]))/(max(X[col]) - min(X[col]))"
   ]
  },
  {
   "cell_type": "code",
   "execution_count": 9,
   "metadata": {},
   "outputs": [],
   "source": [
    "X_train, X_test, y_train, y_test = train_test_split(X, y, random_state=seed)"
   ]
  },
  {
   "cell_type": "code",
   "execution_count": 10,
   "metadata": {},
   "outputs": [
    {
     "data": {
      "text/plain": [
       "1"
      ]
     },
     "execution_count": 10,
     "metadata": {},
     "output_type": "execute_result"
    }
   ],
   "source": [
    "y_train.max()"
   ]
  },
  {
   "cell_type": "code",
   "execution_count": 11,
   "metadata": {},
   "outputs": [],
   "source": [
    "X_train_fill = X_train.fillna(0)\n",
    "X_test_fill = X_test.fillna(0)"
   ]
  },
  {
   "cell_type": "code",
   "execution_count": 12,
   "metadata": {},
   "outputs": [
    {
     "name": "stderr",
     "output_type": "stream",
     "text": [
      "/home/sean/Code/incoming/anaconda3/lib/python3.7/site-packages/sklearn/linear_model/logistic.py:758: ConvergenceWarning: lbfgs failed to converge. Increase the number of iterations.\n",
      "  \"of iterations.\", ConvergenceWarning)\n"
     ]
    },
    {
     "data": {
      "text/plain": [
       "LogisticRegression(C=1000000000000.0, class_weight=None, dual=False,\n",
       "          fit_intercept=False, intercept_scaling=1, max_iter=100,\n",
       "          multi_class='warn', n_jobs=None, penalty='l2', random_state=None,\n",
       "          solver='lbfgs', tol=0.0001, verbose=0, warm_start=False)"
      ]
     },
     "execution_count": 12,
     "metadata": {},
     "output_type": "execute_result"
    }
   ],
   "source": [
    "logreg = LogisticRegression(fit_intercept = False, C = 1e12, solver='lbfgs')\n",
    "model_log = logreg.fit(X_train_fill, y_train)\n",
    "model_log"
   ]
  },
  {
   "cell_type": "code",
   "execution_count": 13,
   "metadata": {},
   "outputs": [],
   "source": [
    "y_hat_prob = logreg.predict_proba(X_test_fill)"
   ]
  },
  {
   "cell_type": "code",
   "execution_count": 14,
   "metadata": {},
   "outputs": [
    {
     "data": {
      "text/plain": [
       "array([[5.22763477e-01, 4.77236523e-01],\n",
       "       [9.99998487e-01, 1.51321278e-06],\n",
       "       [8.71589061e-01, 1.28410939e-01],\n",
       "       [9.98372674e-01, 1.62732589e-03],\n",
       "       [9.99350013e-01, 6.49986938e-04],\n",
       "       [9.83793892e-01, 1.62061080e-02],\n",
       "       [9.99998853e-01, 1.14678951e-06],\n",
       "       [9.99999501e-01, 4.99299224e-07],\n",
       "       [9.99934363e-01, 6.56373722e-05],\n",
       "       [9.99913282e-01, 8.67175902e-05],\n",
       "       [9.99998432e-01, 1.56845879e-06],\n",
       "       [9.99066011e-01, 9.33988944e-04],\n",
       "       [9.99849220e-01, 1.50779866e-04],\n",
       "       [9.82114091e-01, 1.78859089e-02],\n",
       "       [9.98314830e-01, 1.68516960e-03],\n",
       "       [9.86726364e-01, 1.32736364e-02],\n",
       "       [9.93323479e-01, 6.67652081e-03],\n",
       "       [8.48966581e-01, 1.51033419e-01],\n",
       "       [9.87365474e-01, 1.26345260e-02],\n",
       "       [9.99719403e-01, 2.80596764e-04]])"
      ]
     },
     "execution_count": 14,
     "metadata": {},
     "output_type": "execute_result"
    }
   ],
   "source": [
    "y_hat_prob[:20]"
   ]
  },
  {
   "cell_type": "code",
   "execution_count": 15,
   "metadata": {},
   "outputs": [
    {
     "data": {
      "text/plain": [
       "13978    0\n",
       "54084    0\n",
       "2008     0\n",
       "33046    0\n",
       "19091    0\n",
       "15990    0\n",
       "44848    0\n",
       "41720    0\n",
       "29395    0\n",
       "38954    0\n",
       "31409    0\n",
       "28378    0\n",
       "40344    0\n",
       "26102    0\n",
       "22735    0\n",
       "19412    0\n",
       "7347     0\n",
       "1594     0\n",
       "3646     0\n",
       "35912    0\n",
       "Name: SOLD_1_MIL_OR_MORE, dtype: int64"
      ]
     },
     "execution_count": 15,
     "metadata": {},
     "output_type": "execute_result"
    }
   ],
   "source": [
    "y_test.head(20)"
   ]
  },
  {
   "cell_type": "code",
   "execution_count": 16,
   "metadata": {},
   "outputs": [
    {
     "name": "stdout",
     "output_type": "stream",
     "text": [
      "-1782.4909014718196\n"
     ]
    }
   ],
   "source": [
    "loglike = 0\n",
    "for i, tf in enumerate(y_test):\n",
    "    if tf:\n",
    "        loglike += np.log(y_hat_prob[i][1])\n",
    "    else:\n",
    "        loglike += np.log(y_hat_prob[i][0])\n",
    "print(loglike)"
   ]
  },
  {
   "cell_type": "code",
   "execution_count": 17,
   "metadata": {},
   "outputs": [
    {
     "name": "stdout",
     "output_type": "stream",
     "text": [
      "324\n"
     ]
    }
   ],
   "source": [
    "k = len(X_feats)\n",
    "print(k)"
   ]
  },
  {
   "cell_type": "code",
   "execution_count": 18,
   "metadata": {},
   "outputs": [
    {
     "name": "stdout",
     "output_type": "stream",
     "text": [
      "4212.981802943639\n"
     ]
    }
   ],
   "source": [
    "AIC = 2*k - 2*loglike\n",
    "print(AIC)"
   ]
  },
  {
   "cell_type": "code",
   "execution_count": 26,
   "metadata": {},
   "outputs": [],
   "source": [
    "sale_date_AIC = 3383.179999821266  # Calculated in 8.0-sale-date-model-selection.ipynb"
   ]
  },
  {
   "cell_type": "code",
   "execution_count": 25,
   "metadata": {},
   "outputs": [
    {
     "data": {
      "text/plain": [
       "-829.8018031223733"
      ]
     },
     "execution_count": 25,
     "metadata": {},
     "output_type": "execute_result"
    }
   ],
   "source": [
    "sale_date_AIC - AIC  # Delta is negative, so sale date is better"
   ]
  },
  {
   "cell_type": "code",
   "execution_count": null,
   "metadata": {},
   "outputs": [],
   "source": []
  }
 ],
 "metadata": {
  "kernelspec": {
   "display_name": "Python 3",
   "language": "python",
   "name": "python3"
  },
  "language_info": {
   "codemirror_mode": {
    "name": "ipython",
    "version": 3
   },
   "file_extension": ".py",
   "mimetype": "text/x-python",
   "name": "python",
   "nbconvert_exporter": "python",
   "pygments_lexer": "ipython3",
   "version": "3.7.3"
  }
 },
 "nbformat": 4,
 "nbformat_minor": 2
}
