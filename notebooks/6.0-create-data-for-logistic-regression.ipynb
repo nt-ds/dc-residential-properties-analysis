{
 "cells": [
  {
   "cell_type": "markdown",
   "metadata": {},
   "source": [
    "Load processed data."
   ]
  },
  {
   "cell_type": "code",
   "execution_count": 1,
   "metadata": {},
   "outputs": [],
   "source": [
    "import matplotlib.pyplot as plt\n",
    "import numpy as np\n",
    "import pandas as pd\n",
    "import pickle"
   ]
  },
  {
   "cell_type": "code",
   "execution_count": 2,
   "metadata": {},
   "outputs": [],
   "source": [
    "properties = pd.read_csv(\"../data/processed/Processed_DC_Properties.csv\")"
   ]
  },
  {
   "cell_type": "code",
   "execution_count": 10,
   "metadata": {},
   "outputs": [
    {
     "name": "stdout",
     "output_type": "stream",
     "text": [
      "2\n",
      "3\n",
      "6\n",
      "7\n",
      "202\n"
     ]
    }
   ],
   "source": [
    "for i, f in enumerate(list(properties.columns)):\n",
    "    if f == 'SALEDATE' or f == 'SOLDDAYS' or f == 'PRICE' or f == 'log(PRICE)' or f == 'SOLD_1_MIL_OR_MORE':\n",
    "        print(i)"
   ]
  },
  {
   "cell_type": "code",
   "execution_count": 13,
   "metadata": {},
   "outputs": [
    {
     "name": "stdout",
     "output_type": "stream",
     "text": [
      "['AYB', 'EYB', 'LATITUDE', 'LONGITUDE', 'log(GBA)', 'STYLE_1.5 Story Fin', 'STYLE_1.5 Story Unfin', 'STYLE_2 Story', 'STYLE_2.5 Story Fin', 'STYLE_2.5 Story Unfin', 'STYLE_3 Story', 'STYLE_3.5 Story Fin', 'STYLE_3.5 Story Unfin', 'STYLE_4 Story', 'STYLE_4.5 Story Fin', 'STYLE_4.5 Story Unfin', 'STYLE_Bi-Level', 'STYLE_Default', 'STYLE_Split Foyer', 'STYLE_Split Level', 'STYLE_Vacant', 'STRUCT_Multi', 'STRUCT_Row End', 'STRUCT_Row Inside', 'STRUCT_Semi-Detached', 'STRUCT_Single', 'STRUCT_Town End', 'STRUCT_Town Inside', 'GRADE_Average', 'GRADE_Excellent', 'GRADE_Exceptional-A', 'GRADE_Exceptional-B', 'GRADE_Exceptional-C', 'GRADE_Exceptional-D', 'GRADE_Fair Quality', 'GRADE_Good Quality', 'GRADE_Low Quality', 'GRADE_Superior', 'GRADE_Very Good', 'CNDTN_Default', 'CNDTN_Excellent', 'CNDTN_Fair', 'CNDTN_Good', 'CNDTN_Poor', 'CNDTN_Very Good', 'EXTWALL_Aluminum', 'EXTWALL_Brick Veneer', 'EXTWALL_Brick/Siding', 'EXTWALL_Brick/Stone', 'EXTWALL_Brick/Stucco', 'EXTWALL_Common Brick', 'EXTWALL_Concrete', 'EXTWALL_Concrete Block', 'EXTWALL_Default', 'EXTWALL_Face Brick', 'EXTWALL_Hardboard', 'EXTWALL_Metal Siding', 'EXTWALL_Plywood', 'EXTWALL_Shingle', 'EXTWALL_Stone', 'EXTWALL_Stone Veneer', 'EXTWALL_Stone/Siding', 'EXTWALL_Stone/Stucco', 'EXTWALL_Stucco', 'EXTWALL_Stucco Block', 'EXTWALL_Vinyl Siding', 'EXTWALL_Wood Siding', 'ROOF_Clay Tile', 'ROOF_Comp Shingle', 'ROOF_Composition Ro', 'ROOF_Concrete', 'ROOF_Concrete Tile', 'ROOF_Metal- Cpr', 'ROOF_Metal- Pre', 'ROOF_Metal- Sms', 'ROOF_Neopren', 'ROOF_Shake', 'ROOF_Shingle', 'ROOF_Slate', 'ROOF_Typical', 'ROOF_Water Proof', 'ROOF_Wood- FS', 'INTWALL_Ceramic Tile', 'INTWALL_Default', 'INTWALL_Hardwood', 'INTWALL_Hardwood/Carp', 'INTWALL_Lt Concrete', 'INTWALL_Parquet', 'INTWALL_Resiliant', 'INTWALL_Terrazo', 'INTWALL_Vinyl Comp', 'INTWALL_Vinyl Sheet', 'INTWALL_Wood Floor', 'BATHRM_2', 'BATHRM_3', 'BATHRM_4', 'BATHRM_5', 'BATHRM_6', 'BATHRM_7', 'BATHRM_8', 'BATHRM_9', 'BATHRM_10', 'BATHRM_11', 'BATHRM_12', 'HF_BATHRM_1', 'HF_BATHRM_2', 'HF_BATHRM_3', 'HF_BATHRM_4', 'HF_BATHRM_5', 'HF_BATHRM_7', 'HF_BATHRM_11', 'HEAT_Air-Oil', 'HEAT_Elec Base Brd', 'HEAT_Electric Rad', 'HEAT_Evp Cool', 'HEAT_Forced Air', 'HEAT_Gravity Furnac', 'HEAT_Hot Water Rad', 'HEAT_Ht Pump', 'HEAT_Ind Unit', 'HEAT_Wall Furnace', 'HEAT_Warm Cool', 'HEAT_Water Base Brd', 'AC_Y', 'NUM_UNITS_1.0', 'NUM_UNITS_2.0', 'NUM_UNITS_3.0', 'NUM_UNITS_4.0', 'NUM_UNITS_5.0', 'NUM_UNITS_6.0', 'ROOMS_3', 'ROOMS_4', 'ROOMS_5', 'ROOMS_6', 'ROOMS_7', 'ROOMS_8', 'ROOMS_9', 'ROOMS_10', 'ROOMS_11', 'ROOMS_12', 'ROOMS_13', 'ROOMS_14', 'ROOMS_15', 'ROOMS_16', 'ROOMS_17', 'ROOMS_18', 'ROOMS_19', 'ROOMS_20', 'ROOMS_21', 'ROOMS_22', 'ROOMS_23', 'ROOMS_24', 'ROOMS_25', 'ROOMS_26', 'ROOMS_28', 'ROOMS_30', 'ROOMS_31', 'BEDRM_1', 'BEDRM_2', 'BEDRM_3', 'BEDRM_4', 'BEDRM_5', 'BEDRM_6', 'BEDRM_7', 'BEDRM_8', 'BEDRM_9', 'BEDRM_10', 'BEDRM_11', 'BEDRM_12', 'BEDRM_13', 'BEDRM_14', 'BEDRM_15', 'BEDRM_20', 'STORIES_0.25', 'STORIES_1.0', 'STORIES_1.25', 'STORIES_1.5', 'STORIES_1.7', 'STORIES_1.75', 'STORIES_2.0', 'STORIES_2.2', 'STORIES_2.25', 'STORIES_2.3', 'STORIES_2.5', 'STORIES_2.7', 'STORIES_2.75', 'STORIES_3.0', 'STORIES_3.25', 'STORIES_3.5', 'STORIES_3.7', 'STORIES_3.75', 'STORIES_4.0', 'STORIES_5.0', 'STORIES_6.0', 'STORIES_8.25', 'STORIES_9.0', 'STORIES_20.0', 'STORIES_25.0', 'QUALIFIED_U', 'SALE_NUM_2', 'SALE_NUM_3', 'SALE_NUM_4', 'SALE_NUM_5', 'SALE_NUM_6', 'SALE_NUM_7', 'SALE_NUM_8', 'SALE_NUM_9', 'SALE_NUM_10', 'SALE_NUM_11', 'SALE_NUM_12', 'SALE_NUM_13', 'SALE_NUM_14', 'SALE_NUM_15', 'BLDG_NUM_2', 'KITCHENS_2.0', 'KITCHENS_3.0', 'KITCHENS_4.0', 'KITCHENS_5.0', 'KITCHENS_6.0', 'FIREPLACES_1', 'FIREPLACES_2', 'FIREPLACES_3', 'FIREPLACES_4', 'FIREPLACES_5', 'FIREPLACES_6', 'FIREPLACES_7', 'FIREPLACES_8', 'FIREPLACES_9', 'FIREPLACES_10', 'FIREPLACES_11', 'FIREPLACES_12', 'FIREPLACES_13', 'USECODE_12', 'USECODE_13', 'USECODE_15', 'USECODE_19', 'USECODE_23', 'USECODE_24', 'USECODE_39', 'log(LANDAREA)', 'ZIPCODE_20002.0', 'ZIPCODE_20003.0', 'ZIPCODE_20005.0', 'ZIPCODE_20007.0', 'ZIPCODE_20008.0', 'ZIPCODE_20009.0', 'ZIPCODE_20010.0', 'ZIPCODE_20011.0', 'ZIPCODE_20012.0', 'ZIPCODE_20015.0', 'ZIPCODE_20016.0', 'ZIPCODE_20017.0', 'ZIPCODE_20018.0', 'ZIPCODE_20019.0', 'ZIPCODE_20020.0', 'ZIPCODE_20024.0', 'ZIPCODE_20032.0', 'ZIPCODE_20036.0', 'ZIPCODE_20037.0', 'ZIPCODE_20052.0', 'ASSESSMENT_NBHD_American University', 'ASSESSMENT_NBHD_Anacostia', 'ASSESSMENT_NBHD_Barry Farms', 'ASSESSMENT_NBHD_Berkley', 'ASSESSMENT_NBHD_Brentwood', 'ASSESSMENT_NBHD_Brightwood', 'ASSESSMENT_NBHD_Brookland', 'ASSESSMENT_NBHD_Burleith', 'ASSESSMENT_NBHD_Capitol Hill', 'ASSESSMENT_NBHD_Central-tri 1', 'ASSESSMENT_NBHD_Chevy Chase', 'ASSESSMENT_NBHD_Chillum', 'ASSESSMENT_NBHD_Cleveland Park', 'ASSESSMENT_NBHD_Colonial Village', 'ASSESSMENT_NBHD_Columbia Heights', 'ASSESSMENT_NBHD_Congress Heights', 'ASSESSMENT_NBHD_Crestwood', 'ASSESSMENT_NBHD_Deanwood', 'ASSESSMENT_NBHD_Eckington', 'ASSESSMENT_NBHD_Foggy Bottom', 'ASSESSMENT_NBHD_Forest Hills', 'ASSESSMENT_NBHD_Fort Dupont Park', 'ASSESSMENT_NBHD_Fort Lincoln', 'ASSESSMENT_NBHD_Foxhall', 'ASSESSMENT_NBHD_Garfield', 'ASSESSMENT_NBHD_Georgetown', 'ASSESSMENT_NBHD_Glover Park', 'ASSESSMENT_NBHD_Hawthorne', 'ASSESSMENT_NBHD_Hillcrest', 'ASSESSMENT_NBHD_Kalorama', 'ASSESSMENT_NBHD_Kent', 'ASSESSMENT_NBHD_Ledroit Park', 'ASSESSMENT_NBHD_Lily Ponds', 'ASSESSMENT_NBHD_Marshall Heights', 'ASSESSMENT_NBHD_Massachusetts Avenue Heights', 'ASSESSMENT_NBHD_Michigan Park', 'ASSESSMENT_NBHD_Mt. Pleasant', 'ASSESSMENT_NBHD_North Cleveland Park', 'ASSESSMENT_NBHD_Observatory Circle', 'ASSESSMENT_NBHD_Old City 1', 'ASSESSMENT_NBHD_Old City 2', 'ASSESSMENT_NBHD_Palisades', 'ASSESSMENT_NBHD_Petworth', 'ASSESSMENT_NBHD_Randle Heights', 'ASSESSMENT_NBHD_Riggs Park', 'ASSESSMENT_NBHD_Shepherd Heights', 'ASSESSMENT_NBHD_Southwest Waterfront', 'ASSESSMENT_NBHD_Spring Valley', 'ASSESSMENT_NBHD_Takoma Park', 'ASSESSMENT_NBHD_Trinidad', 'ASSESSMENT_NBHD_Wakefield', 'ASSESSMENT_NBHD_Wesley Heights', 'ASSESSMENT_NBHD_Woodley', 'ASSESSMENT_NBHD_Woodridge', 'WARD_Ward 2', 'WARD_Ward 3', 'WARD_Ward 4', 'WARD_Ward 5', 'WARD_Ward 6', 'WARD_Ward 7', 'WARD_Ward 8', 'QUADRANT_NW', 'QUADRANT_SE', 'QUADRANT_SW']\n"
     ]
    }
   ],
   "source": [
    "features_no_solddays = list(properties.columns)\n",
    "features_no_solddays.pop(202)\n",
    "features_no_solddays.pop(7)\n",
    "features_no_solddays.pop(6)\n",
    "features_no_solddays.pop(3)\n",
    "features_no_solddays.pop(2)\n",
    "print(features_no_solddays)"
   ]
  },
  {
   "cell_type": "code",
   "execution_count": 14,
   "metadata": {},
   "outputs": [
    {
     "name": "stdout",
     "output_type": "stream",
     "text": [
      "['AYB', 'EYB', 'LATITUDE', 'LONGITUDE', 'log(GBA)', 'STYLE_1.5 Story Fin', 'STYLE_1.5 Story Unfin', 'STYLE_2 Story', 'STYLE_2.5 Story Fin', 'STYLE_2.5 Story Unfin', 'STYLE_3 Story', 'STYLE_3.5 Story Fin', 'STYLE_3.5 Story Unfin', 'STYLE_4 Story', 'STYLE_4.5 Story Fin', 'STYLE_4.5 Story Unfin', 'STYLE_Bi-Level', 'STYLE_Default', 'STYLE_Split Foyer', 'STYLE_Split Level', 'STYLE_Vacant', 'STRUCT_Multi', 'STRUCT_Row End', 'STRUCT_Row Inside', 'STRUCT_Semi-Detached', 'STRUCT_Single', 'STRUCT_Town End', 'STRUCT_Town Inside', 'GRADE_Average', 'GRADE_Excellent', 'GRADE_Exceptional-A', 'GRADE_Exceptional-B', 'GRADE_Exceptional-C', 'GRADE_Exceptional-D', 'GRADE_Fair Quality', 'GRADE_Good Quality', 'GRADE_Low Quality', 'GRADE_Superior', 'GRADE_Very Good', 'CNDTN_Default', 'CNDTN_Excellent', 'CNDTN_Fair', 'CNDTN_Good', 'CNDTN_Poor', 'CNDTN_Very Good', 'EXTWALL_Aluminum', 'EXTWALL_Brick Veneer', 'EXTWALL_Brick/Siding', 'EXTWALL_Brick/Stone', 'EXTWALL_Brick/Stucco', 'EXTWALL_Common Brick', 'EXTWALL_Concrete', 'EXTWALL_Concrete Block', 'EXTWALL_Default', 'EXTWALL_Face Brick', 'EXTWALL_Hardboard', 'EXTWALL_Metal Siding', 'EXTWALL_Plywood', 'EXTWALL_Shingle', 'EXTWALL_Stone', 'EXTWALL_Stone Veneer', 'EXTWALL_Stone/Siding', 'EXTWALL_Stone/Stucco', 'EXTWALL_Stucco', 'EXTWALL_Stucco Block', 'EXTWALL_Vinyl Siding', 'EXTWALL_Wood Siding', 'ROOF_Clay Tile', 'ROOF_Comp Shingle', 'ROOF_Composition Ro', 'ROOF_Concrete', 'ROOF_Concrete Tile', 'ROOF_Metal- Cpr', 'ROOF_Metal- Pre', 'ROOF_Metal- Sms', 'ROOF_Neopren', 'ROOF_Shake', 'ROOF_Shingle', 'ROOF_Slate', 'ROOF_Typical', 'ROOF_Water Proof', 'ROOF_Wood- FS', 'INTWALL_Ceramic Tile', 'INTWALL_Default', 'INTWALL_Hardwood', 'INTWALL_Hardwood/Carp', 'INTWALL_Lt Concrete', 'INTWALL_Parquet', 'INTWALL_Resiliant', 'INTWALL_Terrazo', 'INTWALL_Vinyl Comp', 'INTWALL_Vinyl Sheet', 'INTWALL_Wood Floor', 'BATHRM_2', 'BATHRM_3', 'BATHRM_4', 'BATHRM_5', 'BATHRM_6', 'BATHRM_7', 'BATHRM_8', 'BATHRM_9', 'BATHRM_10', 'BATHRM_11', 'BATHRM_12', 'HF_BATHRM_1', 'HF_BATHRM_2', 'HF_BATHRM_3', 'HF_BATHRM_4', 'HF_BATHRM_5', 'HF_BATHRM_7', 'HF_BATHRM_11', 'HEAT_Air-Oil', 'HEAT_Elec Base Brd', 'HEAT_Electric Rad', 'HEAT_Evp Cool', 'HEAT_Forced Air', 'HEAT_Gravity Furnac', 'HEAT_Hot Water Rad', 'HEAT_Ht Pump', 'HEAT_Ind Unit', 'HEAT_Wall Furnace', 'HEAT_Warm Cool', 'HEAT_Water Base Brd', 'AC_Y', 'NUM_UNITS_1.0', 'NUM_UNITS_2.0', 'NUM_UNITS_3.0', 'NUM_UNITS_4.0', 'NUM_UNITS_5.0', 'NUM_UNITS_6.0', 'ROOMS_3', 'ROOMS_4', 'ROOMS_5', 'ROOMS_6', 'ROOMS_7', 'ROOMS_8', 'ROOMS_9', 'ROOMS_10', 'ROOMS_11', 'ROOMS_12', 'ROOMS_13', 'ROOMS_14', 'ROOMS_15', 'ROOMS_16', 'ROOMS_17', 'ROOMS_18', 'ROOMS_19', 'ROOMS_20', 'ROOMS_21', 'ROOMS_22', 'ROOMS_23', 'ROOMS_24', 'ROOMS_25', 'ROOMS_26', 'ROOMS_28', 'ROOMS_30', 'ROOMS_31', 'BEDRM_1', 'BEDRM_2', 'BEDRM_3', 'BEDRM_4', 'BEDRM_5', 'BEDRM_6', 'BEDRM_7', 'BEDRM_8', 'BEDRM_9', 'BEDRM_10', 'BEDRM_11', 'BEDRM_12', 'BEDRM_13', 'BEDRM_14', 'BEDRM_15', 'BEDRM_20', 'STORIES_0.25', 'STORIES_1.0', 'STORIES_1.25', 'STORIES_1.5', 'STORIES_1.7', 'STORIES_1.75', 'STORIES_2.0', 'STORIES_2.2', 'STORIES_2.25', 'STORIES_2.3', 'STORIES_2.5', 'STORIES_2.7', 'STORIES_2.75', 'STORIES_3.0', 'STORIES_3.25', 'STORIES_3.5', 'STORIES_3.7', 'STORIES_3.75', 'STORIES_4.0', 'STORIES_5.0', 'STORIES_6.0', 'STORIES_8.25', 'STORIES_9.0', 'STORIES_20.0', 'STORIES_25.0', 'SOLDDAYS', 'QUALIFIED_U', 'SALE_NUM_2', 'SALE_NUM_3', 'SALE_NUM_4', 'SALE_NUM_5', 'SALE_NUM_6', 'SALE_NUM_7', 'SALE_NUM_8', 'SALE_NUM_9', 'SALE_NUM_10', 'SALE_NUM_11', 'SALE_NUM_12', 'SALE_NUM_13', 'SALE_NUM_14', 'SALE_NUM_15', 'BLDG_NUM_2', 'KITCHENS_2.0', 'KITCHENS_3.0', 'KITCHENS_4.0', 'KITCHENS_5.0', 'KITCHENS_6.0', 'FIREPLACES_1', 'FIREPLACES_2', 'FIREPLACES_3', 'FIREPLACES_4', 'FIREPLACES_5', 'FIREPLACES_6', 'FIREPLACES_7', 'FIREPLACES_8', 'FIREPLACES_9', 'FIREPLACES_10', 'FIREPLACES_11', 'FIREPLACES_12', 'FIREPLACES_13', 'USECODE_12', 'USECODE_13', 'USECODE_15', 'USECODE_19', 'USECODE_23', 'USECODE_24', 'USECODE_39', 'log(LANDAREA)', 'ZIPCODE_20002.0', 'ZIPCODE_20003.0', 'ZIPCODE_20005.0', 'ZIPCODE_20007.0', 'ZIPCODE_20008.0', 'ZIPCODE_20009.0', 'ZIPCODE_20010.0', 'ZIPCODE_20011.0', 'ZIPCODE_20012.0', 'ZIPCODE_20015.0', 'ZIPCODE_20016.0', 'ZIPCODE_20017.0', 'ZIPCODE_20018.0', 'ZIPCODE_20019.0', 'ZIPCODE_20020.0', 'ZIPCODE_20024.0', 'ZIPCODE_20032.0', 'ZIPCODE_20036.0', 'ZIPCODE_20037.0', 'ZIPCODE_20052.0', 'ASSESSMENT_NBHD_American University', 'ASSESSMENT_NBHD_Anacostia', 'ASSESSMENT_NBHD_Barry Farms', 'ASSESSMENT_NBHD_Berkley', 'ASSESSMENT_NBHD_Brentwood', 'ASSESSMENT_NBHD_Brightwood', 'ASSESSMENT_NBHD_Brookland', 'ASSESSMENT_NBHD_Burleith', 'ASSESSMENT_NBHD_Capitol Hill', 'ASSESSMENT_NBHD_Central-tri 1', 'ASSESSMENT_NBHD_Chevy Chase', 'ASSESSMENT_NBHD_Chillum', 'ASSESSMENT_NBHD_Cleveland Park', 'ASSESSMENT_NBHD_Colonial Village', 'ASSESSMENT_NBHD_Columbia Heights', 'ASSESSMENT_NBHD_Congress Heights', 'ASSESSMENT_NBHD_Crestwood', 'ASSESSMENT_NBHD_Deanwood', 'ASSESSMENT_NBHD_Eckington', 'ASSESSMENT_NBHD_Foggy Bottom', 'ASSESSMENT_NBHD_Forest Hills', 'ASSESSMENT_NBHD_Fort Dupont Park', 'ASSESSMENT_NBHD_Fort Lincoln', 'ASSESSMENT_NBHD_Foxhall', 'ASSESSMENT_NBHD_Garfield', 'ASSESSMENT_NBHD_Georgetown', 'ASSESSMENT_NBHD_Glover Park', 'ASSESSMENT_NBHD_Hawthorne', 'ASSESSMENT_NBHD_Hillcrest', 'ASSESSMENT_NBHD_Kalorama', 'ASSESSMENT_NBHD_Kent', 'ASSESSMENT_NBHD_Ledroit Park', 'ASSESSMENT_NBHD_Lily Ponds', 'ASSESSMENT_NBHD_Marshall Heights', 'ASSESSMENT_NBHD_Massachusetts Avenue Heights', 'ASSESSMENT_NBHD_Michigan Park', 'ASSESSMENT_NBHD_Mt. Pleasant', 'ASSESSMENT_NBHD_North Cleveland Park', 'ASSESSMENT_NBHD_Observatory Circle', 'ASSESSMENT_NBHD_Old City 1', 'ASSESSMENT_NBHD_Old City 2', 'ASSESSMENT_NBHD_Palisades', 'ASSESSMENT_NBHD_Petworth', 'ASSESSMENT_NBHD_Randle Heights', 'ASSESSMENT_NBHD_Riggs Park', 'ASSESSMENT_NBHD_Shepherd Heights', 'ASSESSMENT_NBHD_Southwest Waterfront', 'ASSESSMENT_NBHD_Spring Valley', 'ASSESSMENT_NBHD_Takoma Park', 'ASSESSMENT_NBHD_Trinidad', 'ASSESSMENT_NBHD_Wakefield', 'ASSESSMENT_NBHD_Wesley Heights', 'ASSESSMENT_NBHD_Woodley', 'ASSESSMENT_NBHD_Woodridge', 'WARD_Ward 2', 'WARD_Ward 3', 'WARD_Ward 4', 'WARD_Ward 5', 'WARD_Ward 6', 'WARD_Ward 7', 'WARD_Ward 8', 'QUADRANT_NW', 'QUADRANT_SE', 'QUADRANT_SW']\n"
     ]
    }
   ],
   "source": [
    "features_solddays = list(properties.columns)\n",
    "features_solddays.pop(7)\n",
    "features_solddays.pop(6)\n",
    "features_solddays.pop(3)\n",
    "features_solddays.pop(2)\n",
    "print(features_solddays)"
   ]
  },
  {
   "cell_type": "code",
   "execution_count": 18,
   "metadata": {},
   "outputs": [],
   "source": [
    "f = open(\"../data/processed/SaleDateHouses.pickle\",\"wb\")\n",
    "pickle.dump(properties,f)\n",
    "pickle.dump(features_solddays,f)\n",
    "pickle.dump('SOLD_1_MIL_OR_MORE',f)\n",
    "f.close()"
   ]
  },
  {
   "cell_type": "code",
   "execution_count": 19,
   "metadata": {},
   "outputs": [],
   "source": [
    "f = open(\"../data/processed/NoSaleDateHouses.pickle\",\"wb\")\n",
    "pickle.dump(properties,f)\n",
    "pickle.dump(features_no_solddays,f)\n",
    "pickle.dump('SOLD_1_MIL_OR_MORE',f)\n",
    "f.close()"
   ]
  },
  {
   "cell_type": "code",
   "execution_count": null,
   "metadata": {},
   "outputs": [],
   "source": []
  }
 ],
 "metadata": {
  "kernelspec": {
   "display_name": "Python 3",
   "language": "python",
   "name": "python3"
  },
  "language_info": {
   "codemirror_mode": {
    "name": "ipython",
    "version": 3
   },
   "file_extension": ".py",
   "mimetype": "text/x-python",
   "name": "python",
   "nbconvert_exporter": "python",
   "pygments_lexer": "ipython3",
   "version": "3.7.3"
  }
 },
 "nbformat": 4,
 "nbformat_minor": 2
}
