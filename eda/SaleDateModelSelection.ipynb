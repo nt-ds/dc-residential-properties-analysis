{
 "cells": [
  {
   "cell_type": "code",
   "execution_count": 34,
   "metadata": {},
   "outputs": [],
   "source": [
    "import numpy as np\n",
    "import matplotlib.pyplot as plt\n",
    "import pandas as pd\n",
    "import pickle\n",
    "from sklearn.model_selection import train_test_split\n",
    "from sklearn.linear_model import LogisticRegression\n",
    "from statsmodels.tsa.seasonal import seasonal_decompose"
   ]
  },
  {
   "cell_type": "code",
   "execution_count": 35,
   "metadata": {},
   "outputs": [],
   "source": [
    "filename = \"SaleDateHouses.pkl\"\n",
    "seed = 0"
   ]
  },
  {
   "cell_type": "code",
   "execution_count": 36,
   "metadata": {},
   "outputs": [],
   "source": [
    "f = open(filename,\"rb\")\n",
    "df = pickle.load(f)\n",
    "X_feats = pickle.load(f)\n",
    "Y_col = pickle.load(f)\n",
    "f.close()"
   ]
  },
  {
   "cell_type": "code",
   "execution_count": 37,
   "metadata": {},
   "outputs": [
    {
     "data": {
      "text/html": [
       "<div>\n",
       "<style scoped>\n",
       "    .dataframe tbody tr th:only-of-type {\n",
       "        vertical-align: middle;\n",
       "    }\n",
       "\n",
       "    .dataframe tbody tr th {\n",
       "        vertical-align: top;\n",
       "    }\n",
       "\n",
       "    .dataframe thead th {\n",
       "        text-align: right;\n",
       "    }\n",
       "</style>\n",
       "<table border=\"1\" class=\"dataframe\">\n",
       "  <thead>\n",
       "    <tr style=\"text-align: right;\">\n",
       "      <th></th>\n",
       "      <th>AYB</th>\n",
       "      <th>EYB</th>\n",
       "      <th>GBA</th>\n",
       "      <th>LANDAREA</th>\n",
       "      <th>LATITUDE</th>\n",
       "      <th>LONGITUDE</th>\n",
       "      <th>STYLE_1.5 Story Fin</th>\n",
       "      <th>STYLE_1.5 Story Unfin</th>\n",
       "      <th>STYLE_2 Story</th>\n",
       "      <th>STYLE_2.5 Story Fin</th>\n",
       "      <th>...</th>\n",
       "      <th>WARD_Ward 4</th>\n",
       "      <th>WARD_Ward 5</th>\n",
       "      <th>WARD_Ward 6</th>\n",
       "      <th>WARD_Ward 7</th>\n",
       "      <th>WARD_Ward 8</th>\n",
       "      <th>QUADRANT_NW</th>\n",
       "      <th>QUADRANT_SE</th>\n",
       "      <th>QUADRANT_SW</th>\n",
       "      <th>SOLDDAYS</th>\n",
       "      <th>PRICE</th>\n",
       "    </tr>\n",
       "  </thead>\n",
       "  <tbody>\n",
       "    <tr>\n",
       "      <th>0</th>\n",
       "      <td>1910.0</td>\n",
       "      <td>1972</td>\n",
       "      <td>2522.0</td>\n",
       "      <td>1680</td>\n",
       "      <td>38.914680</td>\n",
       "      <td>-77.040832</td>\n",
       "      <td>0</td>\n",
       "      <td>0</td>\n",
       "      <td>0</td>\n",
       "      <td>0</td>\n",
       "      <td>...</td>\n",
       "      <td>0</td>\n",
       "      <td>0</td>\n",
       "      <td>0</td>\n",
       "      <td>0</td>\n",
       "      <td>0</td>\n",
       "      <td>1</td>\n",
       "      <td>0</td>\n",
       "      <td>0</td>\n",
       "      <td>5726</td>\n",
       "      <td>True</td>\n",
       "    </tr>\n",
       "    <tr>\n",
       "      <th>1</th>\n",
       "      <td>1910.0</td>\n",
       "      <td>1984</td>\n",
       "      <td>2522.0</td>\n",
       "      <td>1680</td>\n",
       "      <td>38.914684</td>\n",
       "      <td>-77.040678</td>\n",
       "      <td>0</td>\n",
       "      <td>0</td>\n",
       "      <td>0</td>\n",
       "      <td>0</td>\n",
       "      <td>...</td>\n",
       "      <td>0</td>\n",
       "      <td>0</td>\n",
       "      <td>0</td>\n",
       "      <td>0</td>\n",
       "      <td>0</td>\n",
       "      <td>1</td>\n",
       "      <td>0</td>\n",
       "      <td>0</td>\n",
       "      <td>1134</td>\n",
       "      <td>True</td>\n",
       "    </tr>\n",
       "    <tr>\n",
       "      <th>2</th>\n",
       "      <td>1900.0</td>\n",
       "      <td>1984</td>\n",
       "      <td>2484.0</td>\n",
       "      <td>1680</td>\n",
       "      <td>38.914683</td>\n",
       "      <td>-77.040629</td>\n",
       "      <td>0</td>\n",
       "      <td>0</td>\n",
       "      <td>0</td>\n",
       "      <td>0</td>\n",
       "      <td>...</td>\n",
       "      <td>0</td>\n",
       "      <td>0</td>\n",
       "      <td>0</td>\n",
       "      <td>0</td>\n",
       "      <td>0</td>\n",
       "      <td>1</td>\n",
       "      <td>0</td>\n",
       "      <td>0</td>\n",
       "      <td>4766</td>\n",
       "      <td>True</td>\n",
       "    </tr>\n",
       "    <tr>\n",
       "      <th>3</th>\n",
       "      <td>1913.0</td>\n",
       "      <td>1972</td>\n",
       "      <td>5344.0</td>\n",
       "      <td>2196</td>\n",
       "      <td>38.914331</td>\n",
       "      <td>-77.039715</td>\n",
       "      <td>0</td>\n",
       "      <td>0</td>\n",
       "      <td>0</td>\n",
       "      <td>0</td>\n",
       "      <td>...</td>\n",
       "      <td>0</td>\n",
       "      <td>0</td>\n",
       "      <td>0</td>\n",
       "      <td>0</td>\n",
       "      <td>0</td>\n",
       "      <td>1</td>\n",
       "      <td>0</td>\n",
       "      <td>0</td>\n",
       "      <td>3441</td>\n",
       "      <td>True</td>\n",
       "    </tr>\n",
       "    <tr>\n",
       "      <th>4</th>\n",
       "      <td>1906.0</td>\n",
       "      <td>1972</td>\n",
       "      <td>2401.0</td>\n",
       "      <td>1627</td>\n",
       "      <td>38.915408</td>\n",
       "      <td>-77.040129</td>\n",
       "      <td>0</td>\n",
       "      <td>0</td>\n",
       "      <td>0</td>\n",
       "      <td>0</td>\n",
       "      <td>...</td>\n",
       "      <td>0</td>\n",
       "      <td>0</td>\n",
       "      <td>0</td>\n",
       "      <td>0</td>\n",
       "      <td>0</td>\n",
       "      <td>1</td>\n",
       "      <td>0</td>\n",
       "      <td>0</td>\n",
       "      <td>2861</td>\n",
       "      <td>True</td>\n",
       "    </tr>\n",
       "  </tbody>\n",
       "</table>\n",
       "<p>5 rows × 326 columns</p>\n",
       "</div>"
      ],
      "text/plain": [
       "      AYB   EYB     GBA  LANDAREA   LATITUDE  LONGITUDE  STYLE_1.5 Story Fin  \\\n",
       "0  1910.0  1972  2522.0      1680  38.914680 -77.040832                    0   \n",
       "1  1910.0  1984  2522.0      1680  38.914684 -77.040678                    0   \n",
       "2  1900.0  1984  2484.0      1680  38.914683 -77.040629                    0   \n",
       "3  1913.0  1972  5344.0      2196  38.914331 -77.039715                    0   \n",
       "4  1906.0  1972  2401.0      1627  38.915408 -77.040129                    0   \n",
       "\n",
       "   STYLE_1.5 Story Unfin  STYLE_2 Story  STYLE_2.5 Story Fin  ...  \\\n",
       "0                      0              0                    0  ...   \n",
       "1                      0              0                    0  ...   \n",
       "2                      0              0                    0  ...   \n",
       "3                      0              0                    0  ...   \n",
       "4                      0              0                    0  ...   \n",
       "\n",
       "   WARD_Ward 4  WARD_Ward 5  WARD_Ward 6  WARD_Ward 7  WARD_Ward 8  \\\n",
       "0            0            0            0            0            0   \n",
       "1            0            0            0            0            0   \n",
       "2            0            0            0            0            0   \n",
       "3            0            0            0            0            0   \n",
       "4            0            0            0            0            0   \n",
       "\n",
       "   QUADRANT_NW  QUADRANT_SE  QUADRANT_SW  SOLDDAYS  PRICE  \n",
       "0            1            0            0      5726   True  \n",
       "1            1            0            0      1134   True  \n",
       "2            1            0            0      4766   True  \n",
       "3            1            0            0      3441   True  \n",
       "4            1            0            0      2861   True  \n",
       "\n",
       "[5 rows x 326 columns]"
      ]
     },
     "execution_count": 37,
     "metadata": {},
     "output_type": "execute_result"
    }
   ],
   "source": [
    "df.head()"
   ]
  },
  {
   "cell_type": "code",
   "execution_count": 38,
   "metadata": {},
   "outputs": [
    {
     "data": {
      "text/html": [
       "<div>\n",
       "<style scoped>\n",
       "    .dataframe tbody tr th:only-of-type {\n",
       "        vertical-align: middle;\n",
       "    }\n",
       "\n",
       "    .dataframe tbody tr th {\n",
       "        vertical-align: top;\n",
       "    }\n",
       "\n",
       "    .dataframe thead th {\n",
       "        text-align: right;\n",
       "    }\n",
       "</style>\n",
       "<table border=\"1\" class=\"dataframe\">\n",
       "  <thead>\n",
       "    <tr style=\"text-align: right;\">\n",
       "      <th></th>\n",
       "      <th>AYB</th>\n",
       "      <th>EYB</th>\n",
       "      <th>GBA</th>\n",
       "      <th>LANDAREA</th>\n",
       "      <th>LATITUDE</th>\n",
       "      <th>LONGITUDE</th>\n",
       "      <th>STYLE_1.5 Story Fin</th>\n",
       "      <th>STYLE_1.5 Story Unfin</th>\n",
       "      <th>STYLE_2 Story</th>\n",
       "      <th>STYLE_2.5 Story Fin</th>\n",
       "      <th>...</th>\n",
       "      <th>WARD_Ward 3</th>\n",
       "      <th>WARD_Ward 4</th>\n",
       "      <th>WARD_Ward 5</th>\n",
       "      <th>WARD_Ward 6</th>\n",
       "      <th>WARD_Ward 7</th>\n",
       "      <th>WARD_Ward 8</th>\n",
       "      <th>QUADRANT_NW</th>\n",
       "      <th>QUADRANT_SE</th>\n",
       "      <th>QUADRANT_SW</th>\n",
       "      <th>SOLDDAYS</th>\n",
       "    </tr>\n",
       "  </thead>\n",
       "  <tbody>\n",
       "    <tr>\n",
       "      <th>0</th>\n",
       "      <td>1910.0</td>\n",
       "      <td>1972</td>\n",
       "      <td>2522.0</td>\n",
       "      <td>1680</td>\n",
       "      <td>38.914680</td>\n",
       "      <td>-77.040832</td>\n",
       "      <td>0</td>\n",
       "      <td>0</td>\n",
       "      <td>0</td>\n",
       "      <td>0</td>\n",
       "      <td>...</td>\n",
       "      <td>0</td>\n",
       "      <td>0</td>\n",
       "      <td>0</td>\n",
       "      <td>0</td>\n",
       "      <td>0</td>\n",
       "      <td>0</td>\n",
       "      <td>1</td>\n",
       "      <td>0</td>\n",
       "      <td>0</td>\n",
       "      <td>5726</td>\n",
       "    </tr>\n",
       "    <tr>\n",
       "      <th>1</th>\n",
       "      <td>1910.0</td>\n",
       "      <td>1984</td>\n",
       "      <td>2522.0</td>\n",
       "      <td>1680</td>\n",
       "      <td>38.914684</td>\n",
       "      <td>-77.040678</td>\n",
       "      <td>0</td>\n",
       "      <td>0</td>\n",
       "      <td>0</td>\n",
       "      <td>0</td>\n",
       "      <td>...</td>\n",
       "      <td>0</td>\n",
       "      <td>0</td>\n",
       "      <td>0</td>\n",
       "      <td>0</td>\n",
       "      <td>0</td>\n",
       "      <td>0</td>\n",
       "      <td>1</td>\n",
       "      <td>0</td>\n",
       "      <td>0</td>\n",
       "      <td>1134</td>\n",
       "    </tr>\n",
       "    <tr>\n",
       "      <th>2</th>\n",
       "      <td>1900.0</td>\n",
       "      <td>1984</td>\n",
       "      <td>2484.0</td>\n",
       "      <td>1680</td>\n",
       "      <td>38.914683</td>\n",
       "      <td>-77.040629</td>\n",
       "      <td>0</td>\n",
       "      <td>0</td>\n",
       "      <td>0</td>\n",
       "      <td>0</td>\n",
       "      <td>...</td>\n",
       "      <td>0</td>\n",
       "      <td>0</td>\n",
       "      <td>0</td>\n",
       "      <td>0</td>\n",
       "      <td>0</td>\n",
       "      <td>0</td>\n",
       "      <td>1</td>\n",
       "      <td>0</td>\n",
       "      <td>0</td>\n",
       "      <td>4766</td>\n",
       "    </tr>\n",
       "    <tr>\n",
       "      <th>3</th>\n",
       "      <td>1913.0</td>\n",
       "      <td>1972</td>\n",
       "      <td>5344.0</td>\n",
       "      <td>2196</td>\n",
       "      <td>38.914331</td>\n",
       "      <td>-77.039715</td>\n",
       "      <td>0</td>\n",
       "      <td>0</td>\n",
       "      <td>0</td>\n",
       "      <td>0</td>\n",
       "      <td>...</td>\n",
       "      <td>0</td>\n",
       "      <td>0</td>\n",
       "      <td>0</td>\n",
       "      <td>0</td>\n",
       "      <td>0</td>\n",
       "      <td>0</td>\n",
       "      <td>1</td>\n",
       "      <td>0</td>\n",
       "      <td>0</td>\n",
       "      <td>3441</td>\n",
       "    </tr>\n",
       "    <tr>\n",
       "      <th>4</th>\n",
       "      <td>1906.0</td>\n",
       "      <td>1972</td>\n",
       "      <td>2401.0</td>\n",
       "      <td>1627</td>\n",
       "      <td>38.915408</td>\n",
       "      <td>-77.040129</td>\n",
       "      <td>0</td>\n",
       "      <td>0</td>\n",
       "      <td>0</td>\n",
       "      <td>0</td>\n",
       "      <td>...</td>\n",
       "      <td>0</td>\n",
       "      <td>0</td>\n",
       "      <td>0</td>\n",
       "      <td>0</td>\n",
       "      <td>0</td>\n",
       "      <td>0</td>\n",
       "      <td>1</td>\n",
       "      <td>0</td>\n",
       "      <td>0</td>\n",
       "      <td>2861</td>\n",
       "    </tr>\n",
       "  </tbody>\n",
       "</table>\n",
       "<p>5 rows × 325 columns</p>\n",
       "</div>"
      ],
      "text/plain": [
       "      AYB   EYB     GBA  LANDAREA   LATITUDE  LONGITUDE  STYLE_1.5 Story Fin  \\\n",
       "0  1910.0  1972  2522.0      1680  38.914680 -77.040832                    0   \n",
       "1  1910.0  1984  2522.0      1680  38.914684 -77.040678                    0   \n",
       "2  1900.0  1984  2484.0      1680  38.914683 -77.040629                    0   \n",
       "3  1913.0  1972  5344.0      2196  38.914331 -77.039715                    0   \n",
       "4  1906.0  1972  2401.0      1627  38.915408 -77.040129                    0   \n",
       "\n",
       "   STYLE_1.5 Story Unfin  STYLE_2 Story  STYLE_2.5 Story Fin  ...  \\\n",
       "0                      0              0                    0  ...   \n",
       "1                      0              0                    0  ...   \n",
       "2                      0              0                    0  ...   \n",
       "3                      0              0                    0  ...   \n",
       "4                      0              0                    0  ...   \n",
       "\n",
       "   WARD_Ward 3  WARD_Ward 4  WARD_Ward 5  WARD_Ward 6  WARD_Ward 7  \\\n",
       "0            0            0            0            0            0   \n",
       "1            0            0            0            0            0   \n",
       "2            0            0            0            0            0   \n",
       "3            0            0            0            0            0   \n",
       "4            0            0            0            0            0   \n",
       "\n",
       "   WARD_Ward 8  QUADRANT_NW  QUADRANT_SE  QUADRANT_SW  SOLDDAYS  \n",
       "0            0            1            0            0      5726  \n",
       "1            0            1            0            0      1134  \n",
       "2            0            1            0            0      4766  \n",
       "3            0            1            0            0      3441  \n",
       "4            0            1            0            0      2861  \n",
       "\n",
       "[5 rows x 325 columns]"
      ]
     },
     "execution_count": 38,
     "metadata": {},
     "output_type": "execute_result"
    }
   ],
   "source": [
    "df[X_feats].head()"
   ]
  },
  {
   "cell_type": "code",
   "execution_count": 39,
   "metadata": {},
   "outputs": [],
   "source": [
    "y = df[Y_col]"
   ]
  },
  {
   "cell_type": "code",
   "execution_count": 40,
   "metadata": {},
   "outputs": [
    {
     "name": "stderr",
     "output_type": "stream",
     "text": [
      "/home/sean/Code/incoming/anaconda3/lib/python3.7/site-packages/ipykernel_launcher.py:3: SettingWithCopyWarning: \n",
      "A value is trying to be set on a copy of a slice from a DataFrame.\n",
      "Try using .loc[row_indexer,col_indexer] = value instead\n",
      "\n",
      "See the caveats in the documentation: http://pandas.pydata.org/pandas-docs/stable/indexing.html#indexing-view-versus-copy\n",
      "  This is separate from the ipykernel package so we can avoid doing imports until\n"
     ]
    }
   ],
   "source": [
    "X = df[X_feats]\n",
    "for col in X.columns:\n",
    "    X[col] = (X[col] - min(X[col]))/(max(X[col]) - min(X[col]))"
   ]
  },
  {
   "cell_type": "code",
   "execution_count": 41,
   "metadata": {},
   "outputs": [],
   "source": [
    "X_train, X_test, y_train, y_test = train_test_split(X, y, random_state=seed)"
   ]
  },
  {
   "cell_type": "code",
   "execution_count": 42,
   "metadata": {},
   "outputs": [
    {
     "data": {
      "text/plain": [
       "True"
      ]
     },
     "execution_count": 42,
     "metadata": {},
     "output_type": "execute_result"
    }
   ],
   "source": [
    "y_train.max()"
   ]
  },
  {
   "cell_type": "code",
   "execution_count": 43,
   "metadata": {},
   "outputs": [],
   "source": [
    "X_train_fill = X_train.fillna(0)\n",
    "X_test_fill = X_test.fillna(0)"
   ]
  },
  {
   "cell_type": "code",
   "execution_count": 44,
   "metadata": {},
   "outputs": [
    {
     "name": "stderr",
     "output_type": "stream",
     "text": [
      "/home/sean/Code/incoming/anaconda3/lib/python3.7/site-packages/sklearn/linear_model/logistic.py:758: ConvergenceWarning: lbfgs failed to converge. Increase the number of iterations.\n",
      "  \"of iterations.\", ConvergenceWarning)\n"
     ]
    },
    {
     "data": {
      "text/plain": [
       "LogisticRegression(C=1000000000000.0, class_weight=None, dual=False,\n",
       "          fit_intercept=False, intercept_scaling=1, max_iter=100,\n",
       "          multi_class='warn', n_jobs=None, penalty='l2', random_state=None,\n",
       "          solver='lbfgs', tol=0.0001, verbose=0, warm_start=False)"
      ]
     },
     "execution_count": 44,
     "metadata": {},
     "output_type": "execute_result"
    }
   ],
   "source": [
    "logreg = LogisticRegression(fit_intercept = False, C = 1e12, solver='lbfgs')\n",
    "model_log = logreg.fit(X_train_fill, y_train)\n",
    "model_log"
   ]
  },
  {
   "cell_type": "code",
   "execution_count": null,
   "metadata": {},
   "outputs": [],
   "source": []
  },
  {
   "cell_type": "code",
   "execution_count": 45,
   "metadata": {},
   "outputs": [],
   "source": [
    "y_hat_prob = logreg.predict_proba(X_test_fill)"
   ]
  },
  {
   "cell_type": "code",
   "execution_count": 46,
   "metadata": {},
   "outputs": [
    {
     "data": {
      "text/plain": [
       "array([[9.99995211e-01, 4.78872054e-06],\n",
       "       [9.95423039e-01, 4.57696130e-03],\n",
       "       [9.97393531e-01, 2.60646948e-03],\n",
       "       [9.99987860e-01, 1.21397621e-05],\n",
       "       [9.99885827e-01, 1.14173146e-04],\n",
       "       [9.99971920e-01, 2.80799154e-05],\n",
       "       [1.50162925e-02, 9.84983708e-01],\n",
       "       [4.12181481e-01, 5.87818519e-01],\n",
       "       [9.99976460e-01, 2.35403368e-05],\n",
       "       [9.99046785e-01, 9.53215166e-04],\n",
       "       [6.26564532e-02, 9.37343547e-01],\n",
       "       [9.69937626e-01, 3.00623737e-02],\n",
       "       [9.99998451e-01, 1.54910498e-06],\n",
       "       [9.99962321e-01, 3.76785202e-05],\n",
       "       [9.99991353e-01, 8.64665963e-06],\n",
       "       [9.99997275e-01, 2.72547151e-06],\n",
       "       [9.98482080e-01, 1.51791986e-03],\n",
       "       [6.64798211e-01, 3.35201789e-01],\n",
       "       [9.99999819e-01, 1.80635177e-07],\n",
       "       [9.98840699e-01, 1.15930117e-03]])"
      ]
     },
     "execution_count": 46,
     "metadata": {},
     "output_type": "execute_result"
    }
   ],
   "source": [
    "y_hat_prob[:20]"
   ]
  },
  {
   "cell_type": "code",
   "execution_count": 47,
   "metadata": {},
   "outputs": [
    {
     "data": {
      "text/plain": [
       "40403    False\n",
       "54182    False\n",
       "9968     False\n",
       "49491    False\n",
       "41456    False\n",
       "53230    False\n",
       "15369     True\n",
       "18980     True\n",
       "46541    False\n",
       "43974    False\n",
       "4126      True\n",
       "2380     False\n",
       "8321     False\n",
       "30882    False\n",
       "3474     False\n",
       "23273    False\n",
       "5573     False\n",
       "8750     False\n",
       "39870    False\n",
       "5938     False\n",
       "Name: PRICE, dtype: bool"
      ]
     },
     "execution_count": 47,
     "metadata": {},
     "output_type": "execute_result"
    }
   ],
   "source": [
    "y_test.head(20)"
   ]
  },
  {
   "cell_type": "code",
   "execution_count": 48,
   "metadata": {},
   "outputs": [
    {
     "name": "stdout",
     "output_type": "stream",
     "text": [
      "-1357.588404577057\n"
     ]
    }
   ],
   "source": [
    "loglike = 0\n",
    "for i, tf in enumerate(y_test):\n",
    "    if tf:\n",
    "        loglike += np.log(y_hat_prob[i][1])\n",
    "    else:\n",
    "        loglike += np.log(y_hat_prob[i][0])\n",
    "print(loglike)"
   ]
  },
  {
   "cell_type": "code",
   "execution_count": 49,
   "metadata": {},
   "outputs": [
    {
     "name": "stdout",
     "output_type": "stream",
     "text": [
      "325\n"
     ]
    }
   ],
   "source": [
    "k = len(X_feats)\n",
    "print(k)"
   ]
  },
  {
   "cell_type": "code",
   "execution_count": 50,
   "metadata": {},
   "outputs": [
    {
     "name": "stdout",
     "output_type": "stream",
     "text": [
      "3365.176809154114\n"
     ]
    }
   ],
   "source": [
    "AIC = 2*k - 2*loglike\n",
    "print(AIC)"
   ]
  },
  {
   "cell_type": "code",
   "execution_count": 51,
   "metadata": {},
   "outputs": [],
   "source": [
    "lowest_AIC = 4192.3804603229255"
   ]
  },
  {
   "cell_type": "code",
   "execution_count": 52,
   "metadata": {},
   "outputs": [
    {
     "data": {
      "text/plain": [
       "827.2036511688116"
      ]
     },
     "execution_count": 52,
     "metadata": {},
     "output_type": "execute_result"
    }
   ],
   "source": [
    "lowest_AIC-AIC"
   ]
  },
  {
   "cell_type": "code",
   "execution_count": null,
   "metadata": {},
   "outputs": [],
   "source": []
  }
 ],
 "metadata": {
  "kernelspec": {
   "display_name": "Python 3",
   "language": "python",
   "name": "python3"
  },
  "language_info": {
   "codemirror_mode": {
    "name": "ipython",
    "version": 3
   },
   "file_extension": ".py",
   "mimetype": "text/x-python",
   "name": "python",
   "nbconvert_exporter": "python",
   "pygments_lexer": "ipython3",
   "version": "3.7.3"
  }
 },
 "nbformat": 4,
 "nbformat_minor": 2
}
