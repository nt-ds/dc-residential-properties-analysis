{
 "cells": [
  {
   "cell_type": "markdown",
   "metadata": {},
   "source": [
    "# Import"
   ]
  },
  {
   "cell_type": "code",
   "execution_count": 125,
   "metadata": {},
   "outputs": [],
   "source": [
    "%matplotlib inline\n",
    "\n",
    "import os\n",
    "import pickle\n",
    "import numpy as np\n",
    "import pandas as pd\n",
    "import seaborn as sns\n",
    "import matplotlib.pyplot as plt\n",
    "\n",
    "from pathlib import Path\n",
    "from datetime import datetime\n",
    "from sklearn.metrics import mean_squared_error\n",
    "from sklearn.linear_model import LassoCV\n",
    "from sklearn.linear_model import RidgeCV\n",
    "from sklearn.linear_model import LinearRegression\n",
    "from sklearn.model_selection import train_test_split\n",
    "\n",
    "sns.set_style(\"whitegrid\")"
   ]
  },
  {
   "cell_type": "markdown",
   "metadata": {},
   "source": [
    "Change directory to get source code:"
   ]
  },
  {
   "cell_type": "code",
   "execution_count": 126,
   "metadata": {},
   "outputs": [],
   "source": [
    "main_path = os.getcwd()\n",
    "parent_path = Path(os.getcwd()).parent\n",
    "src_path = str(parent_path) + \"/src/data\"\n",
    "os.chdir(src_path)"
   ]
  },
  {
   "cell_type": "markdown",
   "metadata": {},
   "source": [
    "More import:"
   ]
  },
  {
   "cell_type": "code",
   "execution_count": 127,
   "metadata": {},
   "outputs": [],
   "source": [
    "import change_directory"
   ]
  },
  {
   "cell_type": "markdown",
   "metadata": {},
   "source": [
    "Change back to notebook directory:"
   ]
  },
  {
   "cell_type": "code",
   "execution_count": 128,
   "metadata": {},
   "outputs": [],
   "source": [
    "os.chdir(main_path)"
   ]
  },
  {
   "cell_type": "markdown",
   "metadata": {},
   "source": [
    "# Modeling"
   ]
  },
  {
   "cell_type": "markdown",
   "metadata": {},
   "source": [
    "## Load data"
   ]
  },
  {
   "cell_type": "markdown",
   "metadata": {},
   "source": [
    "Change directory to get data:"
   ]
  },
  {
   "cell_type": "code",
   "execution_count": 129,
   "metadata": {},
   "outputs": [],
   "source": [
    "cd = change_directory.ChangeDirectory()\n",
    "cd.change_to_data_dir()"
   ]
  },
  {
   "cell_type": "markdown",
   "metadata": {},
   "source": [
    "Load data:"
   ]
  },
  {
   "cell_type": "code",
   "execution_count": 130,
   "metadata": {},
   "outputs": [],
   "source": [
    "properties = pd.read_csv(\"processed/Processed_DC_Properties.csv\")"
   ]
  },
  {
   "cell_type": "markdown",
   "metadata": {},
   "source": [
    "Change back to notebook directory:"
   ]
  },
  {
   "cell_type": "code",
   "execution_count": 131,
   "metadata": {},
   "outputs": [],
   "source": [
    "cd.change_to_notebook_dir()"
   ]
  },
  {
   "cell_type": "markdown",
   "metadata": {},
   "source": [
    "## X and y"
   ]
  },
  {
   "cell_type": "code",
   "execution_count": 132,
   "metadata": {},
   "outputs": [],
   "source": [
    "y_price = properties.PRICE\n",
    "y_log_price = properties[\"log(PRICE)\"]\n",
    "X_no_saledate = properties.drop([\"PRICE\", \"SALEDATE\", \"log(PRICE)\"], axis=1)\n",
    "X_saledate = properties.drop([\"PRICE\", \"log(PRICE)\"], axis=1)"
   ]
  },
  {
   "cell_type": "markdown",
   "metadata": {},
   "source": [
    "## Helper functions"
   ]
  },
  {
   "cell_type": "code",
   "execution_count": 133,
   "metadata": {},
   "outputs": [],
   "source": [
    "def adjusted_r_squared(r_squared, num_samples, num_regressors):\n",
    "    return 1 - (((1 - r_squared) * (num_samples - 1)) / (num_samples - num_regressors - 1))"
   ]
  },
  {
   "cell_type": "markdown",
   "metadata": {},
   "source": [
    "## Baseline model"
   ]
  },
  {
   "cell_type": "markdown",
   "metadata": {},
   "source": [
    "Our baseline model uses the data without sale dates. Its target variable is price."
   ]
  },
  {
   "cell_type": "code",
   "execution_count": 134,
   "metadata": {},
   "outputs": [],
   "source": [
    "X_train_price, X_test_price, y_train_price, y_test_price = train_test_split(X_no_saledate,\n",
    "                                                                            y_price,\n",
    "                                                                            test_size=0.2,\n",
    "                                                                            random_state=5864)"
   ]
  },
  {
   "cell_type": "code",
   "execution_count": 135,
   "metadata": {},
   "outputs": [
    {
     "data": {
      "text/plain": [
       "LinearRegression(copy_X=True, fit_intercept=True, n_jobs=None,\n",
       "         normalize=False)"
      ]
     },
     "execution_count": 135,
     "metadata": {},
     "output_type": "execute_result"
    }
   ],
   "source": [
    "linreg_price = LinearRegression()\n",
    "linreg_price.fit(X_train_price, y_train_price)"
   ]
  },
  {
   "cell_type": "markdown",
   "metadata": {},
   "source": [
    "Performance on training set:"
   ]
  },
  {
   "cell_type": "code",
   "execution_count": 136,
   "metadata": {},
   "outputs": [
    {
     "data": {
      "text/plain": [
       "0.7457585918124652"
      ]
     },
     "execution_count": 136,
     "metadata": {},
     "output_type": "execute_result"
    }
   ],
   "source": [
    "r2_train_price = linreg_price.score(X_train_price, y_train_price)\n",
    "r2_train_price"
   ]
  },
  {
   "cell_type": "code",
   "execution_count": 137,
   "metadata": {},
   "outputs": [
    {
     "data": {
      "text/plain": [
       "0.7438527959109137"
      ]
     },
     "execution_count": 137,
     "metadata": {},
     "output_type": "execute_result"
    }
   ],
   "source": [
    "adj_r2_train_price = adjusted_r_squared(r2_train_price, X_train_price.shape[0], X_train_price.shape[1])\n",
    "adj_r2_train_price"
   ]
  },
  {
   "cell_type": "markdown",
   "metadata": {},
   "source": [
    "Performance on test set:"
   ]
  },
  {
   "cell_type": "code",
   "execution_count": 138,
   "metadata": {},
   "outputs": [
    {
     "data": {
      "text/plain": [
       "0.6332799676280032"
      ]
     },
     "execution_count": 138,
     "metadata": {},
     "output_type": "execute_result"
    }
   ],
   "source": [
    "r2_test_price = linreg_price.score(X_test_price, y_test_price)\n",
    "r2_test_price"
   ]
  },
  {
   "cell_type": "code",
   "execution_count": 139,
   "metadata": {},
   "outputs": [
    {
     "data": {
      "text/plain": [
       "0.6220304608595382"
      ]
     },
     "execution_count": 139,
     "metadata": {},
     "output_type": "execute_result"
    }
   ],
   "source": [
    "adj_r2_test_price = adjusted_r_squared(r2_test_price, X_test_price.shape[0], X_test_price.shape[1])\n",
    "adj_r2_test_price"
   ]
  },
  {
   "cell_type": "markdown",
   "metadata": {},
   "source": [
    "Overfitting!"
   ]
  },
  {
   "cell_type": "code",
   "execution_count": 140,
   "metadata": {},
   "outputs": [],
   "source": [
    "y_test_price_pred = linreg_price.predict(X_test_price)"
   ]
  },
  {
   "cell_type": "code",
   "execution_count": 141,
   "metadata": {},
   "outputs": [
    {
     "name": "stdout",
     "output_type": "stream",
     "text": [
      "Root mean squared error: 326337.61\n"
     ]
    }
   ],
   "source": [
    "print(\"Root mean squared error: %.2f\" % np.sqrt(mean_squared_error(y_test_price, y_test_price_pred)))"
   ]
  },
  {
   "cell_type": "code",
   "execution_count": 142,
   "metadata": {},
   "outputs": [
    {
     "data": {
      "image/png": "[encoded data removed]",
      "text/plain": [
       "<Figure size 432x288 with 1 Axes>"
      ]
     },
     "metadata": {},
     "output_type": "display_data"
    }
   ],
   "source": [
    "plt.scatter(y_test_price, y_test_price_pred, alpha=0.5)\n",
    "plt.title(\"Predicted vs. Actual - Baseline Model\")\n",
    "plt.xlabel(\"Actual Values\")\n",
    "plt.ylabel(\"Predicted Values\")\n",
    "plt.show()"
   ]
  },
  {
   "cell_type": "markdown",
   "metadata": {},
   "source": [
    "## Model 1"
   ]
  },
  {
   "cell_type": "markdown",
   "metadata": {},
   "source": [
    "Our model 1 uses the data without sale dates. Its target variable is log(price)."
   ]
  },
  {
   "cell_type": "code",
   "execution_count": 143,
   "metadata": {},
   "outputs": [],
   "source": [
    "X_train_log_price, X_test_log_price, y_train_log_price, y_test_log_price = train_test_split(X_no_saledate,\n",
    "                                                                                            y_log_price,\n",
    "                                                                                            test_size=0.2,\n",
    "                                                                                            random_state=4865)"
   ]
  },
  {
   "cell_type": "code",
   "execution_count": 144,
   "metadata": {},
   "outputs": [
    {
     "data": {
      "text/plain": [
       "LinearRegression(copy_X=True, fit_intercept=True, n_jobs=None,\n",
       "         normalize=False)"
      ]
     },
     "execution_count": 144,
     "metadata": {},
     "output_type": "execute_result"
    }
   ],
   "source": [
    "linreg_log_price = LinearRegression()\n",
    "linreg_log_price.fit(X_train_log_price, y_train_log_price)"
   ]
  },
  {
   "cell_type": "markdown",
   "metadata": {},
   "source": [
    "Performance on training set:"
   ]
  },
  {
   "cell_type": "code",
   "execution_count": 145,
   "metadata": {},
   "outputs": [
    {
     "data": {
      "text/plain": [
       "0.7507163445068835"
      ]
     },
     "execution_count": 145,
     "metadata": {},
     "output_type": "execute_result"
    }
   ],
   "source": [
    "r2_train_log_price = linreg_log_price.score(X_train_log_price, y_train_log_price)\n",
    "r2_train_log_price"
   ]
  },
  {
   "cell_type": "code",
   "execution_count": 146,
   "metadata": {},
   "outputs": [
    {
     "data": {
      "text/plain": [
       "0.7488477119644925"
      ]
     },
     "execution_count": 146,
     "metadata": {},
     "output_type": "execute_result"
    }
   ],
   "source": [
    "adj_r2_train_log_price = adjusted_r_squared(r2_train_log_price, X_train_log_price.shape[0],\n",
    "                                            X_train_log_price.shape[1])\n",
    "adj_r2_train_log_price"
   ]
  },
  {
   "cell_type": "markdown",
   "metadata": {},
   "source": [
    "Performance on test set:"
   ]
  },
  {
   "cell_type": "code",
   "execution_count": 147,
   "metadata": {},
   "outputs": [
    {
     "data": {
      "text/plain": [
       "0.7391205440636678"
      ]
     },
     "execution_count": 147,
     "metadata": {},
     "output_type": "execute_result"
    }
   ],
   "source": [
    "r2_test_log_price = linreg_log_price.score(X_test_log_price, y_test_log_price)\n",
    "r2_test_log_price"
   ]
  },
  {
   "cell_type": "code",
   "execution_count": 148,
   "metadata": {},
   "outputs": [
    {
     "data": {
      "text/plain": [
       "0.731117803699781"
      ]
     },
     "execution_count": 148,
     "metadata": {},
     "output_type": "execute_result"
    }
   ],
   "source": [
    "adj_r2_test_log_price = adjusted_r_squared(r2_test_log_price, X_test_log_price.shape[0],\n",
    "                                           X_test_log_price.shape[1])\n",
    "adj_r2_test_log_price"
   ]
  },
  {
   "cell_type": "markdown",
   "metadata": {},
   "source": [
    "Good!"
   ]
  },
  {
   "cell_type": "code",
   "execution_count": 149,
   "metadata": {},
   "outputs": [],
   "source": [
    "y_test_log_price_pred = linreg_log_price.predict(X_test_log_price)"
   ]
  },
  {
   "cell_type": "code",
   "execution_count": 150,
   "metadata": {},
   "outputs": [
    {
     "name": "stdout",
     "output_type": "stream",
     "text": [
      "Root mean squared error: 0.38\n"
     ]
    }
   ],
   "source": [
    "print(\"Root mean squared error: %.2f\" % np.sqrt(mean_squared_error(y_test_log_price, y_test_log_price_pred)))"
   ]
  },
  {
   "cell_type": "code",
   "execution_count": 151,
   "metadata": {
    "scrolled": true
   },
   "outputs": [
    {
     "data": {
      "image/png": "[encoded data removed]",
      "text/plain": [
       "<Figure size 432x288 with 1 Axes>"
      ]
     },
     "metadata": {},
     "output_type": "display_data"
    }
   ],
   "source": [
    "plt.scatter(y_test_log_price, y_test_log_price_pred, alpha=0.5)\n",
    "plt.title(\"Predicted vs. Actual - Model 1\")\n",
    "plt.xlabel(\"Actual Values\")\n",
    "plt.ylabel(\"Predicted Values\")\n",
    "plt.show()"
   ]
  },
  {
   "cell_type": "markdown",
   "metadata": {},
   "source": [
    "## Model 2\n",
    "(our best model: simple and well-performed)"
   ]
  },
  {
   "cell_type": "markdown",
   "metadata": {},
   "source": [
    "Our model 2 uses the data with sale dates. Its target variable is log(price)."
   ]
  },
  {
   "cell_type": "code",
   "execution_count": 152,
   "metadata": {},
   "outputs": [],
   "source": [
    "X_saledate.SALEDATE = X_saledate.SALEDATE.apply(lambda x: datetime.strptime(x, \"%Y-%m-%d\"))\n",
    "today = datetime.strptime(\"2019-07-30\", \"%Y-%m-%d\")\n",
    "X_saledate[\"SOLDDAYS\"] = X_saledate.SALEDATE.apply(lambda x: (today - x).days)\n",
    "X_SALEDATE = X_saledate.SALEDATE\n",
    "#X_saledate.drop(\"SALEDATE\", axis=1, inplace=True)"
   ]
  },
  {
   "cell_type": "code",
   "execution_count": 155,
   "metadata": {},
   "outputs": [],
   "source": [
    "X_train_log_price_saledate, X_test_log_price_saledate, y_train_log_price_saledate, y_test_log_price_saledate = train_test_split(X_saledate,\n",
    "                                                                                                                y_log_price,\n",
    "                                                                                                                test_size=0.2,\n",
    "                                                                                                                random_state=756413)"
   ]
  },
  {
   "cell_type": "code",
   "execution_count": 156,
   "metadata": {},
   "outputs": [],
   "source": [
    "X_saledate.drop(\"SALEDATE\", axis=1, inplace=True)"
   ]
  },
  {
   "cell_type": "code",
   "execution_count": 157,
   "metadata": {},
   "outputs": [],
   "source": [
    "X_train_log_price_sale, X_test_log_price_sale, y_train_log_price_sale, y_test_log_price_sale = train_test_split(X_saledate,\n",
    "                                                                                                                y_log_price,\n",
    "                                                                                                                test_size=0.2,\n",
    "                                                                                                                random_state=756413)"
   ]
  },
  {
   "cell_type": "code",
   "execution_count": 158,
   "metadata": {},
   "outputs": [
    {
     "data": {
      "text/plain": [
       "LinearRegression(copy_X=True, fit_intercept=True, n_jobs=None,\n",
       "         normalize=False)"
      ]
     },
     "execution_count": 158,
     "metadata": {},
     "output_type": "execute_result"
    }
   ],
   "source": [
    "linreg_log_price_sale = LinearRegression()\n",
    "linreg_log_price_sale.fit(X_train_log_price_sale, y_train_log_price_sale)"
   ]
  },
  {
   "cell_type": "markdown",
   "metadata": {},
   "source": [
    "Performance on training set:"
   ]
  },
  {
   "cell_type": "code",
   "execution_count": 159,
   "metadata": {},
   "outputs": [
    {
     "data": {
      "text/plain": [
       "0.8581187524888514"
      ]
     },
     "execution_count": 159,
     "metadata": {},
     "output_type": "execute_result"
    }
   ],
   "source": [
    "r2_train_log_price_sale = linreg_log_price_sale.score(X_train_log_price_sale, y_train_log_price_sale)\n",
    "r2_train_log_price_sale"
   ]
  },
  {
   "cell_type": "code",
   "execution_count": 160,
   "metadata": {},
   "outputs": [
    {
     "data": {
      "text/plain": [
       "0.8570519021477954"
      ]
     },
     "execution_count": 160,
     "metadata": {},
     "output_type": "execute_result"
    }
   ],
   "source": [
    "adj_r2_train_log_price_sale = adjusted_r_squared(r2_train_log_price_sale, X_train_log_price_sale.shape[0],\n",
    "                                                 X_train_log_price_sale.shape[1])\n",
    "adj_r2_train_log_price_sale"
   ]
  },
  {
   "cell_type": "markdown",
   "metadata": {},
   "source": [
    "Performance on test set:"
   ]
  },
  {
   "cell_type": "code",
   "execution_count": 161,
   "metadata": {},
   "outputs": [
    {
     "data": {
      "text/plain": [
       "0.8544410620128413"
      ]
     },
     "execution_count": 161,
     "metadata": {},
     "output_type": "execute_result"
    }
   ],
   "source": [
    "r2_test_log_price_sale = linreg_log_price_sale.score(X_test_log_price_sale, y_test_log_price_sale)\n",
    "r2_test_log_price_sale"
   ]
  },
  {
   "cell_type": "code",
   "execution_count": 162,
   "metadata": {},
   "outputs": [
    {
     "data": {
      "text/plain": [
       "0.8499616893354598"
      ]
     },
     "execution_count": 162,
     "metadata": {},
     "output_type": "execute_result"
    }
   ],
   "source": [
    "adj_r2_test_log_price_sale = adjusted_r_squared(r2_test_log_price_sale, X_test_log_price_sale.shape[0],\n",
    "                                                X_test_log_price_sale.shape[1])\n",
    "adj_r2_test_log_price_sale"
   ]
  },
  {
   "cell_type": "markdown",
   "metadata": {},
   "source": [
    "Good!"
   ]
  },
  {
   "cell_type": "code",
   "execution_count": 163,
   "metadata": {},
   "outputs": [],
   "source": [
    "y_test_log_price_sale_pred = linreg_log_price_sale.predict(X_test_log_price_sale)"
   ]
  },
  {
   "cell_type": "code",
   "execution_count": 164,
   "metadata": {},
   "outputs": [
    {
     "name": "stdout",
     "output_type": "stream",
     "text": [
      "Root mean squared error: 0.28\n"
     ]
    }
   ],
   "source": [
    "print(\"Root mean squared error: %.2f\" % np.sqrt(mean_squared_error(y_test_log_price_sale,\n",
    "                                                                   y_test_log_price_sale_pred)))"
   ]
  },
  {
   "cell_type": "code",
   "execution_count": 165,
   "metadata": {
    "scrolled": true
   },
   "outputs": [
    {
     "data": {
      "image/png": "[encoded data removed]",
      "text/plain": [
       "<Figure size 432x288 with 1 Axes>"
      ]
     },
     "metadata": {},
     "output_type": "display_data"
    }
   ],
   "source": [
    "plt.scatter(y_test_log_price_sale, y_test_log_price_sale_pred, alpha=0.5)\n",
    "plt.title(\"Predicted vs. Actual - Model 2\")\n",
    "plt.xlabel(\"Actual Values\")\n",
    "plt.ylabel(\"Predicted Values\")\n",
    "plt.show()"
   ]
  },
  {
   "cell_type": "code",
   "execution_count": 166,
   "metadata": {},
   "outputs": [
    {
     "data": {
      "text/plain": [
       "<matplotlib.axes._subplots.AxesSubplot at 0x7fd24f0b7898>"
      ]
     },
     "execution_count": 166,
     "metadata": {},
     "output_type": "execute_result"
    },
    {
     "data": {
      "image/png": "[encoded data removed]",
      "text/plain": [
       "<Figure size 432x288 with 1 Axes>"
      ]
     },
     "metadata": {},
     "output_type": "display_data"
    }
   ],
   "source": [
    "res = y_test_log_price_sale - y_test_log_price_sale_pred\n",
    "res.hist(bins=100)"
   ]
  },
  {
   "cell_type": "code",
   "execution_count": 167,
   "metadata": {},
   "outputs": [
    {
     "data": {
      "text/plain": [
       "10887"
      ]
     },
     "execution_count": 167,
     "metadata": {},
     "output_type": "execute_result"
    }
   ],
   "source": [
    "len(res)"
   ]
  },
  {
   "cell_type": "code",
   "execution_count": 170,
   "metadata": {},
   "outputs": [
    {
     "data": {
      "text/plain": [
       "10887"
      ]
     },
     "execution_count": 170,
     "metadata": {},
     "output_type": "execute_result"
    }
   ],
   "source": [
    "len(X_test_log_price_saledate)"
   ]
  },
  {
   "cell_type": "code",
   "execution_count": 172,
   "metadata": {},
   "outputs": [
    {
     "data": {
      "text/plain": [
       "11680   -0.264744\n",
       "3847     0.036232\n",
       "29172   -0.523554\n",
       "6175    -0.088837\n",
       "1064    -0.068136\n",
       "Name: log(PRICE), dtype: float64"
      ]
     },
     "execution_count": 172,
     "metadata": {},
     "output_type": "execute_result"
    }
   ],
   "source": [
    "res.head()"
   ]
  },
  {
   "cell_type": "code",
   "execution_count": 189,
   "metadata": {},
   "outputs": [],
   "source": [
    "resSaleDate = pd.concat([X_test_log_price_saledate.SALEDATE,res], axis=1)"
   ]
  },
  {
   "cell_type": "code",
   "execution_count": 190,
   "metadata": {},
   "outputs": [
    {
     "data": {
      "text/html": [
       "<div>\n",
       "<style scoped>\n",
       "    .dataframe tbody tr th:only-of-type {\n",
       "        vertical-align: middle;\n",
       "    }\n",
       "\n",
       "    .dataframe tbody tr th {\n",
       "        vertical-align: top;\n",
       "    }\n",
       "\n",
       "    .dataframe thead th {\n",
       "        text-align: right;\n",
       "    }\n",
       "</style>\n",
       "<table border=\"1\" class=\"dataframe\">\n",
       "  <thead>\n",
       "    <tr style=\"text-align: right;\">\n",
       "      <th></th>\n",
       "      <th>SALEDATE</th>\n",
       "      <th>log(PRICE)</th>\n",
       "    </tr>\n",
       "  </thead>\n",
       "  <tbody>\n",
       "    <tr>\n",
       "      <th>11680</th>\n",
       "      <td>2016-11-22</td>\n",
       "      <td>-0.264744</td>\n",
       "    </tr>\n",
       "    <tr>\n",
       "      <th>3847</th>\n",
       "      <td>2013-02-15</td>\n",
       "      <td>0.036232</td>\n",
       "    </tr>\n",
       "    <tr>\n",
       "      <th>29172</th>\n",
       "      <td>2001-02-02</td>\n",
       "      <td>-0.523554</td>\n",
       "    </tr>\n",
       "    <tr>\n",
       "      <th>6175</th>\n",
       "      <td>2000-10-23</td>\n",
       "      <td>-0.088837</td>\n",
       "    </tr>\n",
       "    <tr>\n",
       "      <th>1064</th>\n",
       "      <td>2007-03-13</td>\n",
       "      <td>-0.068136</td>\n",
       "    </tr>\n",
       "  </tbody>\n",
       "</table>\n",
       "</div>"
      ],
      "text/plain": [
       "        SALEDATE  log(PRICE)\n",
       "11680 2016-11-22   -0.264744\n",
       "3847  2013-02-15    0.036232\n",
       "29172 2001-02-02   -0.523554\n",
       "6175  2000-10-23   -0.088837\n",
       "1064  2007-03-13   -0.068136"
      ]
     },
     "execution_count": 190,
     "metadata": {},
     "output_type": "execute_result"
    }
   ],
   "source": [
    "resSaleDate.head()"
   ]
  },
  {
   "cell_type": "code",
   "execution_count": 191,
   "metadata": {},
   "outputs": [],
   "source": [
    "resSaleDate['month'] = pd.to_datetime(resSaleDate.SALEDATE).map(lambda x: x.month)"
   ]
  },
  {
   "cell_type": "code",
   "execution_count": 192,
   "metadata": {},
   "outputs": [],
   "source": [
    "resSaleDate['year'] = pd.to_datetime(resSaleDate.SALEDATE).map(lambda x: x.year)"
   ]
  },
  {
   "cell_type": "code",
   "execution_count": 202,
   "metadata": {},
   "outputs": [
    {
     "data": {
      "text/plain": [
       "1992"
      ]
     },
     "execution_count": 202,
     "metadata": {},
     "output_type": "execute_result"
    }
   ],
   "source": [
    "min(resSaleDate.year)"
   ]
  },
  {
   "cell_type": "code",
   "execution_count": 203,
   "metadata": {},
   "outputs": [
    {
     "data": {
      "text/plain": [
       "2018"
      ]
     },
     "execution_count": 203,
     "metadata": {},
     "output_type": "execute_result"
    }
   ],
   "source": [
    "max(resSaleDate.year)"
   ]
  },
  {
   "cell_type": "code",
   "execution_count": 205,
   "metadata": {},
   "outputs": [
    {
     "data": {
      "text/plain": [
       "2006.1666666666667"
      ]
     },
     "execution_count": 205,
     "metadata": {},
     "output_type": "execute_result"
    }
   ],
   "source": [
    "170/12 + 1992"
   ]
  },
  {
   "cell_type": "code",
   "execution_count": 206,
   "metadata": {},
   "outputs": [
    {
     "data": {
      "text/plain": [
       "2012.0"
      ]
     },
     "execution_count": 206,
     "metadata": {},
     "output_type": "execute_result"
    }
   ],
   "source": [
    "240/12 + 1992"
   ]
  },
  {
   "cell_type": "code",
   "execution_count": 208,
   "metadata": {},
   "outputs": [
    {
     "data": {
      "text/plain": [
       "1997.8333333333333"
      ]
     },
     "execution_count": 208,
     "metadata": {},
     "output_type": "execute_result"
    }
   ],
   "source": [
    "70/12 + 1992"
   ]
  },
  {
   "cell_type": "code",
   "execution_count": 194,
   "metadata": {},
   "outputs": [],
   "source": [
    "resSaleDate['month_index'] = (resSaleDate.year - min(resSaleDate.year))*12 + resSaleDate.month"
   ]
  },
  {
   "cell_type": "code",
   "execution_count": 195,
   "metadata": {},
   "outputs": [
    {
     "data": {
      "text/plain": [
       "1"
      ]
     },
     "execution_count": 195,
     "metadata": {},
     "output_type": "execute_result"
    }
   ],
   "source": [
    "min(resSaleDate.month_index)"
   ]
  },
  {
   "cell_type": "code",
   "execution_count": 196,
   "metadata": {},
   "outputs": [
    {
     "data": {
      "text/plain": [
       "10887"
      ]
     },
     "execution_count": 196,
     "metadata": {},
     "output_type": "execute_result"
    }
   ],
   "source": [
    "len(resSaleDate)"
   ]
  },
  {
   "cell_type": "code",
   "execution_count": 198,
   "metadata": {},
   "outputs": [],
   "source": [
    "ts = resSaleDate.groupby('month_index')['log(PRICE)'].mean()"
   ]
  },
  {
   "cell_type": "code",
   "execution_count": 199,
   "metadata": {},
   "outputs": [],
   "source": [
    "from statsmodels.tsa.seasonal import seasonal_decompose"
   ]
  },
  {
   "cell_type": "code",
   "execution_count": 201,
   "metadata": {},
   "outputs": [
    {
     "data": {
      "image/png": "[encoded data removed]",
      "text/plain": [
       "<Figure size 432x288 with 4 Axes>"
      ]
     },
     "execution_count": 201,
     "metadata": {},
     "output_type": "execute_result"
    },
    {
     "data": {
      "image/png": "[encoded data removed]",
      "text/plain": [
       "<Figure size 432x288 with 4 Axes>"
      ]
     },
     "metadata": {},
     "output_type": "display_data"
    }
   ],
   "source": [
    "seasonal_decompose(ts, freq=12).plot()"
   ]
  },
  {
   "cell_type": "markdown",
   "metadata": {},
   "source": [
    "Change directory to get save model:"
   ]
  },
  {
   "cell_type": "code",
   "execution_count": 39,
   "metadata": {},
   "outputs": [],
   "source": [
    "main_path = os.getcwd()\n",
    "parent_path = Path(os.getcwd()).parent\n",
    "src_path = str(parent_path) + \"/models\"\n",
    "os.chdir(src_path)"
   ]
  },
  {
   "cell_type": "markdown",
   "metadata": {},
   "source": [
    "Save model:"
   ]
  },
  {
   "cell_type": "code",
   "execution_count": 40,
   "metadata": {},
   "outputs": [],
   "source": [
    "with open(\"linear_regression_model.pickle\", \"wb\") as f:\n",
    "    pickle.dump(linreg_log_price_sale, f)"
   ]
  },
  {
   "cell_type": "markdown",
   "metadata": {},
   "source": [
    "Change back to notebook directory:"
   ]
  },
  {
   "cell_type": "code",
   "execution_count": 41,
   "metadata": {},
   "outputs": [],
   "source": [
    "os.chdir(main_path)"
   ]
  },
  {
   "cell_type": "markdown",
   "metadata": {},
   "source": [
    "## Model 3"
   ]
  },
  {
   "cell_type": "markdown",
   "metadata": {},
   "source": [
    "Our model 3 is the LASSO version of model 2."
   ]
  },
  {
   "cell_type": "code",
   "execution_count": 42,
   "metadata": {},
   "outputs": [
    {
     "data": {
      "text/plain": [
       "LassoCV(alphas=array([1.000e-04, 1.100e-03, ..., 9.981e-01, 9.991e-01]),\n",
       "    copy_X=True, cv=3, eps=0.001, fit_intercept=True, max_iter=1000,\n",
       "    n_alphas=100, n_jobs=None, normalize=False, positive=False,\n",
       "    precompute='auto', random_state=482, selection='cyclic', tol=0.0001,\n",
       "    verbose=False)"
      ]
     },
     "execution_count": 42,
     "metadata": {},
     "output_type": "execute_result"
    }
   ],
   "source": [
    "lasso = LassoCV(alphas=np.arange(0.0001, 1, 0.001), random_state=482, cv=3)\n",
    "lasso.fit(X_train_log_price_sale, y_train_log_price_sale)"
   ]
  },
  {
   "cell_type": "markdown",
   "metadata": {},
   "source": [
    "Performance on training set:"
   ]
  },
  {
   "cell_type": "code",
   "execution_count": 43,
   "metadata": {},
   "outputs": [
    {
     "name": "stdout",
     "output_type": "stream",
     "text": [
      "0.855532160414642\n",
      "0.8544458606630053\n"
     ]
    }
   ],
   "source": [
    "print(lasso.score(X_train_log_price_sale, y_train_log_price_sale))\n",
    "print(adjusted_r_squared(lasso.score(X_train_log_price_sale, y_train_log_price_sale),\n",
    "                         X_train_log_price_sale.shape[0], X_train_log_price_sale.shape[1]))"
   ]
  },
  {
   "cell_type": "markdown",
   "metadata": {},
   "source": [
    "Performance on test set:"
   ]
  },
  {
   "cell_type": "code",
   "execution_count": 44,
   "metadata": {},
   "outputs": [
    {
     "name": "stdout",
     "output_type": "stream",
     "text": [
      "0.8540735684544328\n",
      "0.8495828866769204\n"
     ]
    }
   ],
   "source": [
    "print(lasso.score(X_test_log_price_sale, y_test_log_price_sale))\n",
    "print(adjusted_r_squared(lasso.score(X_test_log_price_sale, y_test_log_price_sale),\n",
    "                         X_test_log_price_sale.shape[0], X_test_log_price_sale.shape[1]))"
   ]
  },
  {
   "cell_type": "markdown",
   "metadata": {},
   "source": [
    "Good!"
   ]
  },
  {
   "cell_type": "code",
   "execution_count": 45,
   "metadata": {},
   "outputs": [],
   "source": [
    "y_test_lasso = lasso.predict(X_test_log_price_sale)"
   ]
  },
  {
   "cell_type": "code",
   "execution_count": 46,
   "metadata": {},
   "outputs": [
    {
     "name": "stdout",
     "output_type": "stream",
     "text": [
      "Root mean squared error: 0.28\n"
     ]
    }
   ],
   "source": [
    "print(\"Root mean squared error: %.2f\" % np.sqrt(mean_squared_error(y_test_log_price_sale,\n",
    "                                                                   y_test_lasso)))"
   ]
  },
  {
   "cell_type": "code",
   "execution_count": 47,
   "metadata": {},
   "outputs": [
    {
     "data": {
      "image/png": "[encoded data removed]",
      "text/plain": [
       "<Figure size 432x288 with 1 Axes>"
      ]
     },
     "metadata": {
      "needs_background": "light"
     },
     "output_type": "display_data"
    }
   ],
   "source": [
    "plt.scatter(y_test_log_price_sale, y_test_lasso, alpha=0.5)\n",
    "plt.title(\"Predicted vs. Actual - Model 3\")\n",
    "plt.xlabel(\"Actual Values\")\n",
    "plt.ylabel(\"Predicted Values\")\n",
    "plt.show()"
   ]
  },
  {
   "cell_type": "markdown",
   "metadata": {},
   "source": [
    "## Model 4"
   ]
  },
  {
   "cell_type": "markdown",
   "metadata": {},
   "source": [
    "Our model 4 is the Ridge version of model 2."
   ]
  },
  {
   "cell_type": "code",
   "execution_count": 48,
   "metadata": {},
   "outputs": [
    {
     "data": {
      "text/plain": [
       "RidgeCV(alphas=array([1.000e-04, 1.100e-03, ..., 9.981e-01, 9.991e-01]), cv=3,\n",
       "    fit_intercept=True, gcv_mode=None, normalize=False, scoring=None,\n",
       "    store_cv_values=False)"
      ]
     },
     "execution_count": 48,
     "metadata": {},
     "output_type": "execute_result"
    }
   ],
   "source": [
    "ridge = RidgeCV(alphas=np.arange(0.0001, 1, 0.001), cv=3)\n",
    "ridge.fit(X_train_log_price_sale, y_train_log_price_sale)"
   ]
  },
  {
   "cell_type": "markdown",
   "metadata": {},
   "source": [
    "Performance on training set:"
   ]
  },
  {
   "cell_type": "code",
   "execution_count": 49,
   "metadata": {},
   "outputs": [
    {
     "name": "stdout",
     "output_type": "stream",
     "text": [
      "0.8579310741079752\n",
      "0.8568628125533293\n"
     ]
    }
   ],
   "source": [
    "print(ridge.score(X_train_log_price_sale, y_train_log_price_sale))\n",
    "print(adjusted_r_squared(ridge.score(X_train_log_price_sale, y_train_log_price_sale),\n",
    "                         X_train_log_price_sale.shape[0], X_train_log_price_sale.shape[1]))"
   ]
  },
  {
   "cell_type": "markdown",
   "metadata": {},
   "source": [
    "Performance on test set:"
   ]
  },
  {
   "cell_type": "code",
   "execution_count": 50,
   "metadata": {},
   "outputs": [
    {
     "name": "stdout",
     "output_type": "stream",
     "text": [
      "0.85478368330842\n",
      "0.8503148543220775\n"
     ]
    }
   ],
   "source": [
    "print(ridge.score(X_test_log_price_sale, y_test_log_price_sale))\n",
    "print(adjusted_r_squared(ridge.score(X_test_log_price_sale, y_test_log_price_sale),\n",
    "                         X_test_log_price_sale.shape[0], X_test_log_price_sale.shape[1]))"
   ]
  },
  {
   "cell_type": "markdown",
   "metadata": {},
   "source": [
    "Good!"
   ]
  },
  {
   "cell_type": "code",
   "execution_count": 51,
   "metadata": {},
   "outputs": [],
   "source": [
    "y_test_ridge = ridge.predict(X_test_log_price_sale)"
   ]
  },
  {
   "cell_type": "code",
   "execution_count": 52,
   "metadata": {},
   "outputs": [
    {
     "name": "stdout",
     "output_type": "stream",
     "text": [
      "Root mean squared error: 0.28\n"
     ]
    }
   ],
   "source": [
    "print(\"Root mean squared error: %.2f\" % np.sqrt(mean_squared_error(y_test_log_price_sale,\n",
    "                                                                   y_test_ridge)))"
   ]
  },
  {
   "cell_type": "code",
   "execution_count": 53,
   "metadata": {},
   "outputs": [
    {
     "data": {
      "image/png": "[encoded data removed]",
      "text/plain": [
       "<Figure size 432x288 with 1 Axes>"
      ]
     },
     "metadata": {
      "needs_background": "light"
     },
     "output_type": "display_data"
    }
   ],
   "source": [
    "plt.scatter(y_test_log_price_sale, y_test_ridge, alpha=0.5)\n",
    "plt.title(\"Predicted vs. Actual - Model 4\")\n",
    "plt.xlabel(\"Actual Values\")\n",
    "plt.ylabel(\"Predicted Values\")\n",
    "plt.show()"
   ]
  },
  {
   "cell_type": "code",
   "execution_count": 55,
   "metadata": {},
   "outputs": [],
   "source": [
    "MPLUS = y_price > 1000000"
   ]
  },
  {
   "cell_type": "code",
   "execution_count": 58,
   "metadata": {},
   "outputs": [
    {
     "data": {
      "text/html": [
       "<div>\n",
       "<style scoped>\n",
       "    .dataframe tbody tr th:only-of-type {\n",
       "        vertical-align: middle;\n",
       "    }\n",
       "\n",
       "    .dataframe tbody tr th {\n",
       "        vertical-align: top;\n",
       "    }\n",
       "\n",
       "    .dataframe thead th {\n",
       "        text-align: right;\n",
       "    }\n",
       "</style>\n",
       "<table border=\"1\" class=\"dataframe\">\n",
       "  <thead>\n",
       "    <tr style=\"text-align: right;\">\n",
       "      <th></th>\n",
       "      <th>AYB</th>\n",
       "      <th>EYB</th>\n",
       "      <th>GBA</th>\n",
       "      <th>LANDAREA</th>\n",
       "      <th>LATITUDE</th>\n",
       "      <th>LONGITUDE</th>\n",
       "      <th>STYLE_1.5 Story Fin</th>\n",
       "      <th>STYLE_1.5 Story Unfin</th>\n",
       "      <th>STYLE_2 Story</th>\n",
       "      <th>STYLE_2.5 Story Fin</th>\n",
       "      <th>...</th>\n",
       "      <th>WARD_Ward 2</th>\n",
       "      <th>WARD_Ward 3</th>\n",
       "      <th>WARD_Ward 4</th>\n",
       "      <th>WARD_Ward 5</th>\n",
       "      <th>WARD_Ward 6</th>\n",
       "      <th>WARD_Ward 7</th>\n",
       "      <th>WARD_Ward 8</th>\n",
       "      <th>QUADRANT_NW</th>\n",
       "      <th>QUADRANT_SE</th>\n",
       "      <th>QUADRANT_SW</th>\n",
       "    </tr>\n",
       "  </thead>\n",
       "  <tbody>\n",
       "    <tr>\n",
       "      <th>0</th>\n",
       "      <td>1910.0</td>\n",
       "      <td>1972</td>\n",
       "      <td>2522.0</td>\n",
       "      <td>1680</td>\n",
       "      <td>38.914680</td>\n",
       "      <td>-77.040832</td>\n",
       "      <td>0</td>\n",
       "      <td>0</td>\n",
       "      <td>0</td>\n",
       "      <td>0</td>\n",
       "      <td>...</td>\n",
       "      <td>1</td>\n",
       "      <td>0</td>\n",
       "      <td>0</td>\n",
       "      <td>0</td>\n",
       "      <td>0</td>\n",
       "      <td>0</td>\n",
       "      <td>0</td>\n",
       "      <td>1</td>\n",
       "      <td>0</td>\n",
       "      <td>0</td>\n",
       "    </tr>\n",
       "    <tr>\n",
       "      <th>1</th>\n",
       "      <td>1910.0</td>\n",
       "      <td>1984</td>\n",
       "      <td>2522.0</td>\n",
       "      <td>1680</td>\n",
       "      <td>38.914684</td>\n",
       "      <td>-77.040678</td>\n",
       "      <td>0</td>\n",
       "      <td>0</td>\n",
       "      <td>0</td>\n",
       "      <td>0</td>\n",
       "      <td>...</td>\n",
       "      <td>1</td>\n",
       "      <td>0</td>\n",
       "      <td>0</td>\n",
       "      <td>0</td>\n",
       "      <td>0</td>\n",
       "      <td>0</td>\n",
       "      <td>0</td>\n",
       "      <td>1</td>\n",
       "      <td>0</td>\n",
       "      <td>0</td>\n",
       "    </tr>\n",
       "    <tr>\n",
       "      <th>2</th>\n",
       "      <td>1900.0</td>\n",
       "      <td>1984</td>\n",
       "      <td>2484.0</td>\n",
       "      <td>1680</td>\n",
       "      <td>38.914683</td>\n",
       "      <td>-77.040629</td>\n",
       "      <td>0</td>\n",
       "      <td>0</td>\n",
       "      <td>0</td>\n",
       "      <td>0</td>\n",
       "      <td>...</td>\n",
       "      <td>1</td>\n",
       "      <td>0</td>\n",
       "      <td>0</td>\n",
       "      <td>0</td>\n",
       "      <td>0</td>\n",
       "      <td>0</td>\n",
       "      <td>0</td>\n",
       "      <td>1</td>\n",
       "      <td>0</td>\n",
       "      <td>0</td>\n",
       "    </tr>\n",
       "    <tr>\n",
       "      <th>3</th>\n",
       "      <td>1913.0</td>\n",
       "      <td>1972</td>\n",
       "      <td>5344.0</td>\n",
       "      <td>2196</td>\n",
       "      <td>38.914331</td>\n",
       "      <td>-77.039715</td>\n",
       "      <td>0</td>\n",
       "      <td>0</td>\n",
       "      <td>0</td>\n",
       "      <td>0</td>\n",
       "      <td>...</td>\n",
       "      <td>1</td>\n",
       "      <td>0</td>\n",
       "      <td>0</td>\n",
       "      <td>0</td>\n",
       "      <td>0</td>\n",
       "      <td>0</td>\n",
       "      <td>0</td>\n",
       "      <td>1</td>\n",
       "      <td>0</td>\n",
       "      <td>0</td>\n",
       "    </tr>\n",
       "    <tr>\n",
       "      <th>4</th>\n",
       "      <td>1906.0</td>\n",
       "      <td>1972</td>\n",
       "      <td>2401.0</td>\n",
       "      <td>1627</td>\n",
       "      <td>38.915408</td>\n",
       "      <td>-77.040129</td>\n",
       "      <td>0</td>\n",
       "      <td>0</td>\n",
       "      <td>0</td>\n",
       "      <td>0</td>\n",
       "      <td>...</td>\n",
       "      <td>1</td>\n",
       "      <td>0</td>\n",
       "      <td>0</td>\n",
       "      <td>0</td>\n",
       "      <td>0</td>\n",
       "      <td>0</td>\n",
       "      <td>0</td>\n",
       "      <td>1</td>\n",
       "      <td>0</td>\n",
       "      <td>0</td>\n",
       "    </tr>\n",
       "  </tbody>\n",
       "</table>\n",
       "<p>5 rows × 324 columns</p>\n",
       "</div>"
      ],
      "text/plain": [
       "      AYB   EYB     GBA  LANDAREA   LATITUDE  LONGITUDE  STYLE_1.5 Story Fin  \\\n",
       "0  1910.0  1972  2522.0      1680  38.914680 -77.040832                    0   \n",
       "1  1910.0  1984  2522.0      1680  38.914684 -77.040678                    0   \n",
       "2  1900.0  1984  2484.0      1680  38.914683 -77.040629                    0   \n",
       "3  1913.0  1972  5344.0      2196  38.914331 -77.039715                    0   \n",
       "4  1906.0  1972  2401.0      1627  38.915408 -77.040129                    0   \n",
       "\n",
       "   STYLE_1.5 Story Unfin  STYLE_2 Story  STYLE_2.5 Story Fin  ...  \\\n",
       "0                      0              0                    0  ...   \n",
       "1                      0              0                    0  ...   \n",
       "2                      0              0                    0  ...   \n",
       "3                      0              0                    0  ...   \n",
       "4                      0              0                    0  ...   \n",
       "\n",
       "   WARD_Ward 2  WARD_Ward 3  WARD_Ward 4  WARD_Ward 5  WARD_Ward 6  \\\n",
       "0            1            0            0            0            0   \n",
       "1            1            0            0            0            0   \n",
       "2            1            0            0            0            0   \n",
       "3            1            0            0            0            0   \n",
       "4            1            0            0            0            0   \n",
       "\n",
       "   WARD_Ward 7  WARD_Ward 8  QUADRANT_NW  QUADRANT_SE  QUADRANT_SW  \n",
       "0            0            0            1            0            0  \n",
       "1            0            0            1            0            0  \n",
       "2            0            0            1            0            0  \n",
       "3            0            0            1            0            0  \n",
       "4            0            0            1            0            0  \n",
       "\n",
       "[5 rows x 324 columns]"
      ]
     },
     "execution_count": 58,
     "metadata": {},
     "output_type": "execute_result"
    }
   ],
   "source": [
    "X_no_saledate.head()"
   ]
  },
  {
   "cell_type": "code",
   "execution_count": 59,
   "metadata": {},
   "outputs": [
    {
     "data": {
      "text/html": [
       "<div>\n",
       "<style scoped>\n",
       "    .dataframe tbody tr th:only-of-type {\n",
       "        vertical-align: middle;\n",
       "    }\n",
       "\n",
       "    .dataframe tbody tr th {\n",
       "        vertical-align: top;\n",
       "    }\n",
       "\n",
       "    .dataframe thead th {\n",
       "        text-align: right;\n",
       "    }\n",
       "</style>\n",
       "<table border=\"1\" class=\"dataframe\">\n",
       "  <thead>\n",
       "    <tr style=\"text-align: right;\">\n",
       "      <th></th>\n",
       "      <th>AYB</th>\n",
       "      <th>EYB</th>\n",
       "      <th>GBA</th>\n",
       "      <th>LANDAREA</th>\n",
       "      <th>LATITUDE</th>\n",
       "      <th>LONGITUDE</th>\n",
       "      <th>STYLE_1.5 Story Fin</th>\n",
       "      <th>STYLE_1.5 Story Unfin</th>\n",
       "      <th>STYLE_2 Story</th>\n",
       "      <th>STYLE_2.5 Story Fin</th>\n",
       "      <th>...</th>\n",
       "      <th>WARD_Ward 3</th>\n",
       "      <th>WARD_Ward 4</th>\n",
       "      <th>WARD_Ward 5</th>\n",
       "      <th>WARD_Ward 6</th>\n",
       "      <th>WARD_Ward 7</th>\n",
       "      <th>WARD_Ward 8</th>\n",
       "      <th>QUADRANT_NW</th>\n",
       "      <th>QUADRANT_SE</th>\n",
       "      <th>QUADRANT_SW</th>\n",
       "      <th>SOLDDAYS</th>\n",
       "    </tr>\n",
       "  </thead>\n",
       "  <tbody>\n",
       "    <tr>\n",
       "      <th>0</th>\n",
       "      <td>1910.0</td>\n",
       "      <td>1972</td>\n",
       "      <td>2522.0</td>\n",
       "      <td>1680</td>\n",
       "      <td>38.914680</td>\n",
       "      <td>-77.040832</td>\n",
       "      <td>0</td>\n",
       "      <td>0</td>\n",
       "      <td>0</td>\n",
       "      <td>0</td>\n",
       "      <td>...</td>\n",
       "      <td>0</td>\n",
       "      <td>0</td>\n",
       "      <td>0</td>\n",
       "      <td>0</td>\n",
       "      <td>0</td>\n",
       "      <td>0</td>\n",
       "      <td>1</td>\n",
       "      <td>0</td>\n",
       "      <td>0</td>\n",
       "      <td>5726</td>\n",
       "    </tr>\n",
       "    <tr>\n",
       "      <th>1</th>\n",
       "      <td>1910.0</td>\n",
       "      <td>1984</td>\n",
       "      <td>2522.0</td>\n",
       "      <td>1680</td>\n",
       "      <td>38.914684</td>\n",
       "      <td>-77.040678</td>\n",
       "      <td>0</td>\n",
       "      <td>0</td>\n",
       "      <td>0</td>\n",
       "      <td>0</td>\n",
       "      <td>...</td>\n",
       "      <td>0</td>\n",
       "      <td>0</td>\n",
       "      <td>0</td>\n",
       "      <td>0</td>\n",
       "      <td>0</td>\n",
       "      <td>0</td>\n",
       "      <td>1</td>\n",
       "      <td>0</td>\n",
       "      <td>0</td>\n",
       "      <td>1134</td>\n",
       "    </tr>\n",
       "    <tr>\n",
       "      <th>2</th>\n",
       "      <td>1900.0</td>\n",
       "      <td>1984</td>\n",
       "      <td>2484.0</td>\n",
       "      <td>1680</td>\n",
       "      <td>38.914683</td>\n",
       "      <td>-77.040629</td>\n",
       "      <td>0</td>\n",
       "      <td>0</td>\n",
       "      <td>0</td>\n",
       "      <td>0</td>\n",
       "      <td>...</td>\n",
       "      <td>0</td>\n",
       "      <td>0</td>\n",
       "      <td>0</td>\n",
       "      <td>0</td>\n",
       "      <td>0</td>\n",
       "      <td>0</td>\n",
       "      <td>1</td>\n",
       "      <td>0</td>\n",
       "      <td>0</td>\n",
       "      <td>4766</td>\n",
       "    </tr>\n",
       "    <tr>\n",
       "      <th>3</th>\n",
       "      <td>1913.0</td>\n",
       "      <td>1972</td>\n",
       "      <td>5344.0</td>\n",
       "      <td>2196</td>\n",
       "      <td>38.914331</td>\n",
       "      <td>-77.039715</td>\n",
       "      <td>0</td>\n",
       "      <td>0</td>\n",
       "      <td>0</td>\n",
       "      <td>0</td>\n",
       "      <td>...</td>\n",
       "      <td>0</td>\n",
       "      <td>0</td>\n",
       "      <td>0</td>\n",
       "      <td>0</td>\n",
       "      <td>0</td>\n",
       "      <td>0</td>\n",
       "      <td>1</td>\n",
       "      <td>0</td>\n",
       "      <td>0</td>\n",
       "      <td>3441</td>\n",
       "    </tr>\n",
       "    <tr>\n",
       "      <th>4</th>\n",
       "      <td>1906.0</td>\n",
       "      <td>1972</td>\n",
       "      <td>2401.0</td>\n",
       "      <td>1627</td>\n",
       "      <td>38.915408</td>\n",
       "      <td>-77.040129</td>\n",
       "      <td>0</td>\n",
       "      <td>0</td>\n",
       "      <td>0</td>\n",
       "      <td>0</td>\n",
       "      <td>...</td>\n",
       "      <td>0</td>\n",
       "      <td>0</td>\n",
       "      <td>0</td>\n",
       "      <td>0</td>\n",
       "      <td>0</td>\n",
       "      <td>0</td>\n",
       "      <td>1</td>\n",
       "      <td>0</td>\n",
       "      <td>0</td>\n",
       "      <td>2861</td>\n",
       "    </tr>\n",
       "  </tbody>\n",
       "</table>\n",
       "<p>5 rows × 325 columns</p>\n",
       "</div>"
      ],
      "text/plain": [
       "      AYB   EYB     GBA  LANDAREA   LATITUDE  LONGITUDE  STYLE_1.5 Story Fin  \\\n",
       "0  1910.0  1972  2522.0      1680  38.914680 -77.040832                    0   \n",
       "1  1910.0  1984  2522.0      1680  38.914684 -77.040678                    0   \n",
       "2  1900.0  1984  2484.0      1680  38.914683 -77.040629                    0   \n",
       "3  1913.0  1972  5344.0      2196  38.914331 -77.039715                    0   \n",
       "4  1906.0  1972  2401.0      1627  38.915408 -77.040129                    0   \n",
       "\n",
       "   STYLE_1.5 Story Unfin  STYLE_2 Story  STYLE_2.5 Story Fin  ...  \\\n",
       "0                      0              0                    0  ...   \n",
       "1                      0              0                    0  ...   \n",
       "2                      0              0                    0  ...   \n",
       "3                      0              0                    0  ...   \n",
       "4                      0              0                    0  ...   \n",
       "\n",
       "   WARD_Ward 3  WARD_Ward 4  WARD_Ward 5  WARD_Ward 6  WARD_Ward 7  \\\n",
       "0            0            0            0            0            0   \n",
       "1            0            0            0            0            0   \n",
       "2            0            0            0            0            0   \n",
       "3            0            0            0            0            0   \n",
       "4            0            0            0            0            0   \n",
       "\n",
       "   WARD_Ward 8  QUADRANT_NW  QUADRANT_SE  QUADRANT_SW  SOLDDAYS  \n",
       "0            0            1            0            0      5726  \n",
       "1            0            1            0            0      1134  \n",
       "2            0            1            0            0      4766  \n",
       "3            0            1            0            0      3441  \n",
       "4            0            1            0            0      2861  \n",
       "\n",
       "[5 rows x 325 columns]"
      ]
     },
     "execution_count": 59,
     "metadata": {},
     "output_type": "execute_result"
    }
   ],
   "source": [
    "X_saledate.head()"
   ]
  },
  {
   "cell_type": "code",
   "execution_count": 60,
   "metadata": {},
   "outputs": [],
   "source": [
    "saledate_features = list(X_saledate.columns)"
   ]
  },
  {
   "cell_type": "code",
   "execution_count": 61,
   "metadata": {},
   "outputs": [],
   "source": [
    "no_saledate_features = list(X_no_saledate.columns)"
   ]
  },
  {
   "cell_type": "code",
   "execution_count": 65,
   "metadata": {},
   "outputs": [],
   "source": [
    "saledate_plus = pd.concat([X_saledate, MPLUS], axis=1)"
   ]
  },
  {
   "cell_type": "code",
   "execution_count": 66,
   "metadata": {},
   "outputs": [],
   "source": [
    "no_saledate_plus = pd.concat([X_no_saledate, MPLUS], axis=1)"
   ]
  },
  {
   "cell_type": "code",
   "execution_count": 67,
   "metadata": {},
   "outputs": [
    {
     "data": {
      "text/plain": [
       "325"
      ]
     },
     "execution_count": 67,
     "metadata": {},
     "output_type": "execute_result"
    }
   ],
   "source": [
    "len(saledate_features)"
   ]
  },
  {
   "cell_type": "code",
   "execution_count": 71,
   "metadata": {},
   "outputs": [
    {
     "data": {
      "text/plain": [
       "0    True\n",
       "1    True\n",
       "2    True\n",
       "3    True\n",
       "4    True\n",
       "Name: PRICE, dtype: bool"
      ]
     },
     "execution_count": 71,
     "metadata": {},
     "output_type": "execute_result"
    }
   ],
   "source": [
    "saledate_plus.PRICE.head()"
   ]
  },
  {
   "cell_type": "code",
   "execution_count": 72,
   "metadata": {},
   "outputs": [],
   "source": [
    "f = open(\"SaleDateHouses.pkl\",\"wb\")\n",
    "pickle.dump(saledate_plus,f)\n",
    "pickle.dump(saledate_features,f)\n",
    "pickle.dump('PRICE',f)\n",
    "f.close()"
   ]
  },
  {
   "cell_type": "code",
   "execution_count": 73,
   "metadata": {},
   "outputs": [],
   "source": [
    "f = open(\"NoSaleDateHouses.pkl\",\"wb\")\n",
    "pickle.dump(no_saledate_plus,f)\n",
    "pickle.dump(no_saledate_features,f)\n",
    "pickle.dump('PRICE',f)\n",
    "f.close()"
   ]
  },
  {
   "cell_type": "code",
   "execution_count": null,
   "metadata": {},
   "outputs": [],
   "source": []
  }
 ],
 "metadata": {
  "kernelspec": {
   "display_name": "Python 3",
   "language": "python",
   "name": "python3"
  },
  "language_info": {
   "codemirror_mode": {
    "name": "ipython",
    "version": 3
   },
   "file_extension": ".py",
   "mimetype": "text/x-python",
   "name": "python",
   "nbconvert_exporter": "python",
   "pygments_lexer": "ipython3",
   "version": "3.7.3"
  }
 },
 "nbformat": 4,
 "nbformat_minor": 2
}
