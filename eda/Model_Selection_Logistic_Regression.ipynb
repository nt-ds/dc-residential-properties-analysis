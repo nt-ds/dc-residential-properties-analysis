{
 "cells": [
  {
   "cell_type": "code",
   "execution_count": 1,
   "metadata": {},
   "outputs": [],
   "source": [
    "import numpy as np\n",
    "import matplotlib.pyplot as plt\n",
    "import pandas as pd\n",
    "import pickle\n",
    "from sklearn.model_selection import train_test_split\n",
    "from sklearn.linear_model import LogisticRegression\n",
    "from statsmodels.tsa.seasonal import seasonal_decompose"
   ]
  },
  {
   "cell_type": "code",
   "execution_count": 2,
   "metadata": {},
   "outputs": [],
   "source": [
    "filename = \"Houses.pkl\"\n",
    "seed = 0"
   ]
  },
  {
   "cell_type": "code",
   "execution_count": 3,
   "metadata": {},
   "outputs": [],
   "source": [
    "f = open(filename,\"rb\")\n",
    "df = pickle.load(f)\n",
    "X_feats = pickle.load(f)\n",
    "Y_col = pickle.load(f)\n",
    "f.close()"
   ]
  },
  {
   "cell_type": "code",
   "execution_count": 4,
   "metadata": {},
   "outputs": [
    {
     "data": {
      "text/html": [
       "<div>\n",
       "<style scoped>\n",
       "    .dataframe tbody tr th:only-of-type {\n",
       "        vertical-align: middle;\n",
       "    }\n",
       "\n",
       "    .dataframe tbody tr th {\n",
       "        vertical-align: top;\n",
       "    }\n",
       "\n",
       "    .dataframe thead th {\n",
       "        text-align: right;\n",
       "    }\n",
       "</style>\n",
       "<table border=\"1\" class=\"dataframe\">\n",
       "  <thead>\n",
       "    <tr style=\"text-align: right;\">\n",
       "      <th></th>\n",
       "      <th>Unnamed: 0</th>\n",
       "      <th>BATHRM</th>\n",
       "      <th>HF_BATHRM</th>\n",
       "      <th>HEAT</th>\n",
       "      <th>AC</th>\n",
       "      <th>NUM_UNITS</th>\n",
       "      <th>ROOMS</th>\n",
       "      <th>BEDRM</th>\n",
       "      <th>AYB</th>\n",
       "      <th>YR_RMDL</th>\n",
       "      <th>...</th>\n",
       "      <th>CENSUS_TRACT</th>\n",
       "      <th>CENSUS_BLOCK</th>\n",
       "      <th>WARD</th>\n",
       "      <th>SQUARE</th>\n",
       "      <th>X</th>\n",
       "      <th>Y</th>\n",
       "      <th>QUADRANT</th>\n",
       "      <th>sold_days_before_last_sale</th>\n",
       "      <th>extra_rooms</th>\n",
       "      <th>MPlus</th>\n",
       "    </tr>\n",
       "  </thead>\n",
       "  <tbody>\n",
       "    <tr>\n",
       "      <th>5</th>\n",
       "      <td>5</td>\n",
       "      <td>3</td>\n",
       "      <td>2</td>\n",
       "      <td>Hot Water Rad</td>\n",
       "      <td>Y</td>\n",
       "      <td>1.0</td>\n",
       "      <td>10</td>\n",
       "      <td>5</td>\n",
       "      <td>1913.0</td>\n",
       "      <td>NaN</td>\n",
       "      <td>...</td>\n",
       "      <td>4201.0</td>\n",
       "      <td>004201 2006</td>\n",
       "      <td>Ward 2</td>\n",
       "      <td>152</td>\n",
       "      <td>-77.040429</td>\n",
       "      <td>38.914881</td>\n",
       "      <td>NW</td>\n",
       "      <td>3058 days</td>\n",
       "      <td>5</td>\n",
       "      <td>True</td>\n",
       "    </tr>\n",
       "    <tr>\n",
       "      <th>16</th>\n",
       "      <td>16</td>\n",
       "      <td>3</td>\n",
       "      <td>1</td>\n",
       "      <td>Warm Cool</td>\n",
       "      <td>Y</td>\n",
       "      <td>1.0</td>\n",
       "      <td>8</td>\n",
       "      <td>3</td>\n",
       "      <td>1908.0</td>\n",
       "      <td>2006.0</td>\n",
       "      <td>...</td>\n",
       "      <td>4201.0</td>\n",
       "      <td>004201 2005</td>\n",
       "      <td>Ward 2</td>\n",
       "      <td>152</td>\n",
       "      <td>-77.040429</td>\n",
       "      <td>38.914881</td>\n",
       "      <td>NW</td>\n",
       "      <td>2807 days</td>\n",
       "      <td>5</td>\n",
       "      <td>True</td>\n",
       "    </tr>\n",
       "    <tr>\n",
       "      <th>20</th>\n",
       "      <td>20</td>\n",
       "      <td>3</td>\n",
       "      <td>1</td>\n",
       "      <td>Hot Water Rad</td>\n",
       "      <td>Y</td>\n",
       "      <td>1.0</td>\n",
       "      <td>14</td>\n",
       "      <td>5</td>\n",
       "      <td>1880.0</td>\n",
       "      <td>2009.0</td>\n",
       "      <td>...</td>\n",
       "      <td>5201.0</td>\n",
       "      <td>005201 4003</td>\n",
       "      <td>Ward 2</td>\n",
       "      <td>208</td>\n",
       "      <td>-77.033366</td>\n",
       "      <td>38.911716</td>\n",
       "      <td>NW</td>\n",
       "      <td>912 days</td>\n",
       "      <td>9</td>\n",
       "      <td>False</td>\n",
       "    </tr>\n",
       "    <tr>\n",
       "      <th>23</th>\n",
       "      <td>23</td>\n",
       "      <td>2</td>\n",
       "      <td>1</td>\n",
       "      <td>Forced Air</td>\n",
       "      <td>Y</td>\n",
       "      <td>1.0</td>\n",
       "      <td>5</td>\n",
       "      <td>3</td>\n",
       "      <td>1880.0</td>\n",
       "      <td>2010.0</td>\n",
       "      <td>...</td>\n",
       "      <td>5201.0</td>\n",
       "      <td>005201 4003</td>\n",
       "      <td>Ward 2</td>\n",
       "      <td>208</td>\n",
       "      <td>-77.033366</td>\n",
       "      <td>38.911716</td>\n",
       "      <td>NW</td>\n",
       "      <td>2151 days</td>\n",
       "      <td>2</td>\n",
       "      <td>True</td>\n",
       "    </tr>\n",
       "    <tr>\n",
       "      <th>24</th>\n",
       "      <td>24</td>\n",
       "      <td>2</td>\n",
       "      <td>1</td>\n",
       "      <td>Hot Water Rad</td>\n",
       "      <td>Y</td>\n",
       "      <td>1.0</td>\n",
       "      <td>8</td>\n",
       "      <td>3</td>\n",
       "      <td>1880.0</td>\n",
       "      <td>2004.0</td>\n",
       "      <td>...</td>\n",
       "      <td>5201.0</td>\n",
       "      <td>005201 4003</td>\n",
       "      <td>Ward 2</td>\n",
       "      <td>208</td>\n",
       "      <td>-77.033366</td>\n",
       "      <td>38.911716</td>\n",
       "      <td>NW</td>\n",
       "      <td>2178 days</td>\n",
       "      <td>5</td>\n",
       "      <td>True</td>\n",
       "    </tr>\n",
       "  </tbody>\n",
       "</table>\n",
       "<p>5 rows × 52 columns</p>\n",
       "</div>"
      ],
      "text/plain": [
       "    Unnamed: 0  BATHRM  HF_BATHRM           HEAT AC  NUM_UNITS  ROOMS  BEDRM  \\\n",
       "5            5       3          2  Hot Water Rad  Y        1.0     10      5   \n",
       "16          16       3          1      Warm Cool  Y        1.0      8      3   \n",
       "20          20       3          1  Hot Water Rad  Y        1.0     14      5   \n",
       "23          23       2          1     Forced Air  Y        1.0      5      3   \n",
       "24          24       2          1  Hot Water Rad  Y        1.0      8      3   \n",
       "\n",
       "       AYB  YR_RMDL  ...  CENSUS_TRACT  CENSUS_BLOCK    WARD  SQUARE  \\\n",
       "5   1913.0      NaN  ...        4201.0   004201 2006  Ward 2     152   \n",
       "16  1908.0   2006.0  ...        4201.0   004201 2005  Ward 2     152   \n",
       "20  1880.0   2009.0  ...        5201.0   005201 4003  Ward 2     208   \n",
       "23  1880.0   2010.0  ...        5201.0   005201 4003  Ward 2     208   \n",
       "24  1880.0   2004.0  ...        5201.0   005201 4003  Ward 2     208   \n",
       "\n",
       "            X          Y  QUADRANT  sold_days_before_last_sale extra_rooms  \\\n",
       "5  -77.040429  38.914881        NW                   3058 days           5   \n",
       "16 -77.040429  38.914881        NW                   2807 days           5   \n",
       "20 -77.033366  38.911716        NW                    912 days           9   \n",
       "23 -77.033366  38.911716        NW                   2151 days           2   \n",
       "24 -77.033366  38.911716        NW                   2178 days           5   \n",
       "\n",
       "    MPlus  \n",
       "5    True  \n",
       "16   True  \n",
       "20  False  \n",
       "23   True  \n",
       "24   True  \n",
       "\n",
       "[5 rows x 52 columns]"
      ]
     },
     "execution_count": 4,
     "metadata": {},
     "output_type": "execute_result"
    }
   ],
   "source": [
    "df.head()"
   ]
  },
  {
   "cell_type": "code",
   "execution_count": 5,
   "metadata": {},
   "outputs": [
    {
     "data": {
      "text/html": [
       "<div>\n",
       "<style scoped>\n",
       "    .dataframe tbody tr th:only-of-type {\n",
       "        vertical-align: middle;\n",
       "    }\n",
       "\n",
       "    .dataframe tbody tr th {\n",
       "        vertical-align: top;\n",
       "    }\n",
       "\n",
       "    .dataframe thead th {\n",
       "        text-align: right;\n",
       "    }\n",
       "</style>\n",
       "<table border=\"1\" class=\"dataframe\">\n",
       "  <thead>\n",
       "    <tr style=\"text-align: right;\">\n",
       "      <th></th>\n",
       "      <th>sold_days_before_last_sale</th>\n",
       "      <th>BEDRM</th>\n",
       "      <th>BATHRM</th>\n",
       "      <th>HF_BATHRM</th>\n",
       "      <th>extra_rooms</th>\n",
       "    </tr>\n",
       "  </thead>\n",
       "  <tbody>\n",
       "    <tr>\n",
       "      <th>5</th>\n",
       "      <td>3058 days</td>\n",
       "      <td>5</td>\n",
       "      <td>3</td>\n",
       "      <td>2</td>\n",
       "      <td>5</td>\n",
       "    </tr>\n",
       "    <tr>\n",
       "      <th>16</th>\n",
       "      <td>2807 days</td>\n",
       "      <td>3</td>\n",
       "      <td>3</td>\n",
       "      <td>1</td>\n",
       "      <td>5</td>\n",
       "    </tr>\n",
       "    <tr>\n",
       "      <th>20</th>\n",
       "      <td>912 days</td>\n",
       "      <td>5</td>\n",
       "      <td>3</td>\n",
       "      <td>1</td>\n",
       "      <td>9</td>\n",
       "    </tr>\n",
       "    <tr>\n",
       "      <th>23</th>\n",
       "      <td>2151 days</td>\n",
       "      <td>3</td>\n",
       "      <td>2</td>\n",
       "      <td>1</td>\n",
       "      <td>2</td>\n",
       "    </tr>\n",
       "    <tr>\n",
       "      <th>24</th>\n",
       "      <td>2178 days</td>\n",
       "      <td>3</td>\n",
       "      <td>2</td>\n",
       "      <td>1</td>\n",
       "      <td>5</td>\n",
       "    </tr>\n",
       "  </tbody>\n",
       "</table>\n",
       "</div>"
      ],
      "text/plain": [
       "   sold_days_before_last_sale  BEDRM  BATHRM  HF_BATHRM  extra_rooms\n",
       "5                   3058 days      5       3          2            5\n",
       "16                  2807 days      3       3          1            5\n",
       "20                   912 days      5       3          1            9\n",
       "23                  2151 days      3       2          1            2\n",
       "24                  2178 days      3       2          1            5"
      ]
     },
     "execution_count": 5,
     "metadata": {},
     "output_type": "execute_result"
    }
   ],
   "source": [
    "df[X_feats].head()"
   ]
  },
  {
   "cell_type": "code",
   "execution_count": 6,
   "metadata": {},
   "outputs": [],
   "source": [
    "y = df[Y_col]"
   ]
  },
  {
   "cell_type": "code",
   "execution_count": 7,
   "metadata": {},
   "outputs": [
    {
     "name": "stderr",
     "output_type": "stream",
     "text": [
      "/home/sean/Code/incoming/anaconda3/lib/python3.7/site-packages/ipykernel_launcher.py:3: SettingWithCopyWarning: \n",
      "A value is trying to be set on a copy of a slice from a DataFrame.\n",
      "Try using .loc[row_indexer,col_indexer] = value instead\n",
      "\n",
      "See the caveats in the documentation: http://pandas.pydata.org/pandas-docs/stable/indexing.html#indexing-view-versus-copy\n",
      "  This is separate from the ipykernel package so we can avoid doing imports until\n"
     ]
    }
   ],
   "source": [
    "X = df[X_feats]\n",
    "for col in X.columns:\n",
    "    X[col] = (X[col] - min(X[col]))/(max(X[col]) - min(X[col]))"
   ]
  },
  {
   "cell_type": "code",
   "execution_count": 8,
   "metadata": {},
   "outputs": [],
   "source": [
    "X_train, X_test, y_train, y_test = train_test_split(X, y, random_state=seed)"
   ]
  },
  {
   "cell_type": "code",
   "execution_count": 9,
   "metadata": {},
   "outputs": [
    {
     "data": {
      "text/plain": [
       "LogisticRegression(C=1000000000000.0, class_weight=None, dual=False,\n",
       "          fit_intercept=False, intercept_scaling=1, max_iter=100,\n",
       "          multi_class='warn', n_jobs=None, penalty='l2', random_state=None,\n",
       "          solver='lbfgs', tol=0.0001, verbose=0, warm_start=False)"
      ]
     },
     "execution_count": 9,
     "metadata": {},
     "output_type": "execute_result"
    }
   ],
   "source": [
    "logreg = LogisticRegression(fit_intercept = False, C = 1e12, solver='lbfgs')\n",
    "model_log = logreg.fit(X_train, y_train)\n",
    "model_log"
   ]
  },
  {
   "cell_type": "code",
   "execution_count": 10,
   "metadata": {},
   "outputs": [],
   "source": [
    "y_hat_prob = logreg.predict_proba(X_test)"
   ]
  },
  {
   "cell_type": "code",
   "execution_count": 11,
   "metadata": {},
   "outputs": [
    {
     "data": {
      "text/plain": [
       "array([[0.56066639, 0.43933361],\n",
       "       [0.8569717 , 0.1430283 ],\n",
       "       [0.76137688, 0.23862312],\n",
       "       [0.79272744, 0.20727256],\n",
       "       [0.96309772, 0.03690228],\n",
       "       [0.48650568, 0.51349432],\n",
       "       [0.89936178, 0.10063822],\n",
       "       [0.51550269, 0.48449731],\n",
       "       [0.87482266, 0.12517734],\n",
       "       [0.87169499, 0.12830501],\n",
       "       [0.67558232, 0.32441768],\n",
       "       [0.85174903, 0.14825097],\n",
       "       [0.83137395, 0.16862605],\n",
       "       [0.41895045, 0.58104955],\n",
       "       [0.46110484, 0.53889516],\n",
       "       [0.9390607 , 0.0609393 ],\n",
       "       [0.64324516, 0.35675484],\n",
       "       [0.29901705, 0.70098295],\n",
       "       [0.52064812, 0.47935188],\n",
       "       [0.79778164, 0.20221836]])"
      ]
     },
     "execution_count": 11,
     "metadata": {},
     "output_type": "execute_result"
    }
   ],
   "source": [
    "y_hat_prob[:20]"
   ]
  },
  {
   "cell_type": "code",
   "execution_count": 12,
   "metadata": {},
   "outputs": [
    {
     "data": {
      "text/plain": [
       "40976      True\n",
       "39124     False\n",
       "53783     False\n",
       "64726     False\n",
       "94330     False\n",
       "38662      True\n",
       "26173      True\n",
       "32461      True\n",
       "85689     False\n",
       "46759     False\n",
       "84158     False\n",
       "61371     False\n",
       "8465       True\n",
       "57149     False\n",
       "53231     False\n",
       "58209     False\n",
       "103106    False\n",
       "11332     False\n",
       "97369     False\n",
       "103931    False\n",
       "Name: MPlus, dtype: bool"
      ]
     },
     "execution_count": 12,
     "metadata": {},
     "output_type": "execute_result"
    }
   ],
   "source": [
    "y_test.head(20)"
   ]
  },
  {
   "cell_type": "code",
   "execution_count": 13,
   "metadata": {},
   "outputs": [
    {
     "name": "stdout",
     "output_type": "stream",
     "text": [
      "-3118.8616457355\n"
     ]
    }
   ],
   "source": [
    "loglike = 0\n",
    "for i, tf in enumerate(y_test):\n",
    "    if tf:\n",
    "        loglike += np.log(y_hat_prob[i][1])\n",
    "    else:\n",
    "        loglike += np.log(y_hat_prob[i][0])\n",
    "print(loglike)"
   ]
  },
  {
   "cell_type": "code",
   "execution_count": 14,
   "metadata": {},
   "outputs": [
    {
     "name": "stdout",
     "output_type": "stream",
     "text": [
      "5\n"
     ]
    }
   ],
   "source": [
    "k = len(X_feats)\n",
    "print(k)"
   ]
  },
  {
   "cell_type": "code",
   "execution_count": 15,
   "metadata": {},
   "outputs": [
    {
     "name": "stdout",
     "output_type": "stream",
     "text": [
      "6247.723291471\n"
     ]
    }
   ],
   "source": [
    "AIC = 2*k - 2*loglike\n",
    "print(AIC)"
   ]
  },
  {
   "cell_type": "code",
   "execution_count": 16,
   "metadata": {},
   "outputs": [],
   "source": [
    "lowest_AIC = 6247.723291471"
   ]
  },
  {
   "cell_type": "code",
   "execution_count": null,
   "metadata": {},
   "outputs": [],
   "source": []
  }
 ],
 "metadata": {
  "kernelspec": {
   "display_name": "Python 3",
   "language": "python",
   "name": "python3"
  },
  "language_info": {
   "codemirror_mode": {
    "name": "ipython",
    "version": 3
   },
   "file_extension": ".py",
   "mimetype": "text/x-python",
   "name": "python",
   "nbconvert_exporter": "python",
   "pygments_lexer": "ipython3",
   "version": "3.7.3"
  }
 },
 "nbformat": 4,
 "nbformat_minor": 2
}
